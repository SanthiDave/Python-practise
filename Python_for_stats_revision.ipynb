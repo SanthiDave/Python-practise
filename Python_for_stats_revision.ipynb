{
  "nbformat": 4,
  "nbformat_minor": 0,
  "metadata": {
    "colab": {
      "provenance": [],
      "authorship_tag": "ABX9TyPZTVQEl63hyCS8uQlaJW2D",
      "include_colab_link": true
    },
    "kernelspec": {
      "name": "python3",
      "display_name": "Python 3"
    },
    "language_info": {
      "name": "python"
    }
  },
  "cells": [
    {
      "cell_type": "markdown",
      "metadata": {
        "id": "view-in-github",
        "colab_type": "text"
      },
      "source": [
        "<a href=\"https://colab.research.google.com/github/SanthiDave/Python-practise/blob/main/Python_for_stats_revision.ipynb\" target=\"_parent\"><img src=\"https://colab.research.google.com/assets/colab-badge.svg\" alt=\"Open In Colab\"/></a>"
      ]
    },
    {
      "cell_type": "markdown",
      "source": [
        "This notebook will be a short review of key concepts in python. \n",
        "\n",
        "1.Libraries & Plotting\n",
        "2.Pandas DataFrame manipulation\n",
        "3.Unit testing\n",
        "4.Randomness and reproducibility\n",
        "5.list comprehension\n",
        "6.Lists vs. numpy arrays\n",
        "7.Dictionaries\n",
        "8.Functions\n",
        "9.Lambda functions"
      ],
      "metadata": {
        "id": "yEi6__zE-daE"
      }
    },
    {
      "cell_type": "markdown",
      "source": [
        "1. Libraries & Plotting\n",
        "Python's Scientific libraries:\n",
        "*   Foundation Libraries: \n",
        "> a. Numpy - arrays & linear algebra\n",
        "> b. Scipy - large collection of numerical algorithms\n",
        "> c. Matplotlib - graphing & plotting\n",
        "\n",
        "*   Data Science Libraries:\n",
        ">  a. Pandas - data containers, data management tools\n",
        ">  b. Statsmodels - statistical analysis, data modeling\n",
        ">  c. Sklearn - Machine learning \n",
        ">  d. Seaborn - Higher level plotting"
      ],
      "metadata": {
        "id": "FNr0Z6-J-8tV"
      }
    },
    {
      "cell_type": "code",
      "source": [
        "# import matplotlib and seaborn libraries\n",
        "import numpy as np\n",
        "import pandas as pd\n",
        "import matplotlib.pyplot as plt\n",
        "%matplotlib inline\n",
        "import seaborn as sns"
      ],
      "metadata": {
        "id": "WEZBnDqN-rDA"
      },
      "execution_count": 1,
      "outputs": []
    },
    {
      "cell_type": "code",
      "source": [
        "## Histogram using Seaborn\n",
        "\n",
        "# load dataset \n",
        "df_tips = sns.load_dataset(\"tips\")\n",
        "df_tips.head()\n"
      ],
      "metadata": {
        "colab": {
          "base_uri": "https://localhost:8080/",
          "height": 206
        },
        "id": "JsxYSUZSAU-f",
        "outputId": "3ed02ee4-9e05-481a-f0a2-2afe73999063"
      },
      "execution_count": 2,
      "outputs": [
        {
          "output_type": "execute_result",
          "data": {
            "text/plain": [
              "   total_bill   tip     sex smoker  day    time  size\n",
              "0       16.99  1.01  Female     No  Sun  Dinner     2\n",
              "1       10.34  1.66    Male     No  Sun  Dinner     3\n",
              "2       21.01  3.50    Male     No  Sun  Dinner     3\n",
              "3       23.68  3.31    Male     No  Sun  Dinner     2\n",
              "4       24.59  3.61  Female     No  Sun  Dinner     4"
            ],
            "text/html": [
              "\n",
              "  <div id=\"df-ed788d56-0cab-466b-bcbd-c2b967d8e253\">\n",
              "    <div class=\"colab-df-container\">\n",
              "      <div>\n",
              "<style scoped>\n",
              "    .dataframe tbody tr th:only-of-type {\n",
              "        vertical-align: middle;\n",
              "    }\n",
              "\n",
              "    .dataframe tbody tr th {\n",
              "        vertical-align: top;\n",
              "    }\n",
              "\n",
              "    .dataframe thead th {\n",
              "        text-align: right;\n",
              "    }\n",
              "</style>\n",
              "<table border=\"1\" class=\"dataframe\">\n",
              "  <thead>\n",
              "    <tr style=\"text-align: right;\">\n",
              "      <th></th>\n",
              "      <th>total_bill</th>\n",
              "      <th>tip</th>\n",
              "      <th>sex</th>\n",
              "      <th>smoker</th>\n",
              "      <th>day</th>\n",
              "      <th>time</th>\n",
              "      <th>size</th>\n",
              "    </tr>\n",
              "  </thead>\n",
              "  <tbody>\n",
              "    <tr>\n",
              "      <th>0</th>\n",
              "      <td>16.99</td>\n",
              "      <td>1.01</td>\n",
              "      <td>Female</td>\n",
              "      <td>No</td>\n",
              "      <td>Sun</td>\n",
              "      <td>Dinner</td>\n",
              "      <td>2</td>\n",
              "    </tr>\n",
              "    <tr>\n",
              "      <th>1</th>\n",
              "      <td>10.34</td>\n",
              "      <td>1.66</td>\n",
              "      <td>Male</td>\n",
              "      <td>No</td>\n",
              "      <td>Sun</td>\n",
              "      <td>Dinner</td>\n",
              "      <td>3</td>\n",
              "    </tr>\n",
              "    <tr>\n",
              "      <th>2</th>\n",
              "      <td>21.01</td>\n",
              "      <td>3.50</td>\n",
              "      <td>Male</td>\n",
              "      <td>No</td>\n",
              "      <td>Sun</td>\n",
              "      <td>Dinner</td>\n",
              "      <td>3</td>\n",
              "    </tr>\n",
              "    <tr>\n",
              "      <th>3</th>\n",
              "      <td>23.68</td>\n",
              "      <td>3.31</td>\n",
              "      <td>Male</td>\n",
              "      <td>No</td>\n",
              "      <td>Sun</td>\n",
              "      <td>Dinner</td>\n",
              "      <td>2</td>\n",
              "    </tr>\n",
              "    <tr>\n",
              "      <th>4</th>\n",
              "      <td>24.59</td>\n",
              "      <td>3.61</td>\n",
              "      <td>Female</td>\n",
              "      <td>No</td>\n",
              "      <td>Sun</td>\n",
              "      <td>Dinner</td>\n",
              "      <td>4</td>\n",
              "    </tr>\n",
              "  </tbody>\n",
              "</table>\n",
              "</div>\n",
              "      <button class=\"colab-df-convert\" onclick=\"convertToInteractive('df-ed788d56-0cab-466b-bcbd-c2b967d8e253')\"\n",
              "              title=\"Convert this dataframe to an interactive table.\"\n",
              "              style=\"display:none;\">\n",
              "        \n",
              "  <svg xmlns=\"http://www.w3.org/2000/svg\" height=\"24px\"viewBox=\"0 0 24 24\"\n",
              "       width=\"24px\">\n",
              "    <path d=\"M0 0h24v24H0V0z\" fill=\"none\"/>\n",
              "    <path d=\"M18.56 5.44l.94 2.06.94-2.06 2.06-.94-2.06-.94-.94-2.06-.94 2.06-2.06.94zm-11 1L8.5 8.5l.94-2.06 2.06-.94-2.06-.94L8.5 2.5l-.94 2.06-2.06.94zm10 10l.94 2.06.94-2.06 2.06-.94-2.06-.94-.94-2.06-.94 2.06-2.06.94z\"/><path d=\"M17.41 7.96l-1.37-1.37c-.4-.4-.92-.59-1.43-.59-.52 0-1.04.2-1.43.59L10.3 9.45l-7.72 7.72c-.78.78-.78 2.05 0 2.83L4 21.41c.39.39.9.59 1.41.59.51 0 1.02-.2 1.41-.59l7.78-7.78 2.81-2.81c.8-.78.8-2.07 0-2.86zM5.41 20L4 18.59l7.72-7.72 1.47 1.35L5.41 20z\"/>\n",
              "  </svg>\n",
              "      </button>\n",
              "      \n",
              "  <style>\n",
              "    .colab-df-container {\n",
              "      display:flex;\n",
              "      flex-wrap:wrap;\n",
              "      gap: 12px;\n",
              "    }\n",
              "\n",
              "    .colab-df-convert {\n",
              "      background-color: #E8F0FE;\n",
              "      border: none;\n",
              "      border-radius: 50%;\n",
              "      cursor: pointer;\n",
              "      display: none;\n",
              "      fill: #1967D2;\n",
              "      height: 32px;\n",
              "      padding: 0 0 0 0;\n",
              "      width: 32px;\n",
              "    }\n",
              "\n",
              "    .colab-df-convert:hover {\n",
              "      background-color: #E2EBFA;\n",
              "      box-shadow: 0px 1px 2px rgba(60, 64, 67, 0.3), 0px 1px 3px 1px rgba(60, 64, 67, 0.15);\n",
              "      fill: #174EA6;\n",
              "    }\n",
              "\n",
              "    [theme=dark] .colab-df-convert {\n",
              "      background-color: #3B4455;\n",
              "      fill: #D2E3FC;\n",
              "    }\n",
              "\n",
              "    [theme=dark] .colab-df-convert:hover {\n",
              "      background-color: #434B5C;\n",
              "      box-shadow: 0px 1px 3px 1px rgba(0, 0, 0, 0.15);\n",
              "      filter: drop-shadow(0px 1px 2px rgba(0, 0, 0, 0.3));\n",
              "      fill: #FFFFFF;\n",
              "    }\n",
              "  </style>\n",
              "\n",
              "      <script>\n",
              "        const buttonEl =\n",
              "          document.querySelector('#df-ed788d56-0cab-466b-bcbd-c2b967d8e253 button.colab-df-convert');\n",
              "        buttonEl.style.display =\n",
              "          google.colab.kernel.accessAllowed ? 'block' : 'none';\n",
              "\n",
              "        async function convertToInteractive(key) {\n",
              "          const element = document.querySelector('#df-ed788d56-0cab-466b-bcbd-c2b967d8e253');\n",
              "          const dataTable =\n",
              "            await google.colab.kernel.invokeFunction('convertToInteractive',\n",
              "                                                     [key], {});\n",
              "          if (!dataTable) return;\n",
              "\n",
              "          const docLinkHtml = 'Like what you see? Visit the ' +\n",
              "            '<a target=\"_blank\" href=https://colab.research.google.com/notebooks/data_table.ipynb>data table notebook</a>'\n",
              "            + ' to learn more about interactive tables.';\n",
              "          element.innerHTML = '';\n",
              "          dataTable['output_type'] = 'display_data';\n",
              "          await google.colab.output.renderOutput(dataTable, element);\n",
              "          const docLink = document.createElement('div');\n",
              "          docLink.innerHTML = docLinkHtml;\n",
              "          element.appendChild(docLink);\n",
              "        }\n",
              "      </script>\n",
              "    </div>\n",
              "  </div>\n",
              "  "
            ]
          },
          "metadata": {},
          "execution_count": 2
        }
      ]
    },
    {
      "cell_type": "code",
      "source": [
        "## Histogram using Seaborn\n",
        "sns.displot(df_tips['tip'], kde=False, bins=10)\n",
        "plt.suptitle(\"Histogram of Tips Given to Waiters\", fontsize=14, fontdict={\"weight\": \"bold\"})\n",
        "plt.show()"
      ],
      "metadata": {
        "colab": {
          "base_uri": "https://localhost:8080/",
          "height": 373
        },
        "id": "VGmr5J92B0Qt",
        "outputId": "efae732f-fa25-461c-c471-4c76ab675c79"
      },
      "execution_count": 3,
      "outputs": [
        {
          "output_type": "display_data",
          "data": {
            "text/plain": [
              "<Figure size 360x360 with 1 Axes>"
            ],
            "image/png": "[encoded data removed]"
          },
          "metadata": {
            "needs_background": "light"
          }
        }
      ]
    },
    {
      "cell_type": "code",
      "source": [
        "## Histogram using matplotlib\n",
        "plt.hist(df_tips['tip'], bins=10)\n",
        "plt.title(\"Histogram of Tips Given to Waiters\")\n",
        "plt.show()"
      ],
      "metadata": {
        "colab": {
          "base_uri": "https://localhost:8080/",
          "height": 281
        },
        "id": "MtS9C12GCHpw",
        "outputId": "33d69876-4793-4da4-bec5-945598e7885c"
      },
      "execution_count": 4,
      "outputs": [
        {
          "output_type": "display_data",
          "data": {
            "text/plain": [
              "<Figure size 432x288 with 1 Axes>"
            ],
            "image/png": "[encoded data removed]"
          },
          "metadata": {
            "needs_background": "light"
          }
        }
      ]
    },
    {
      "cell_type": "code",
      "source": [
        "## Boxplot using Seaborn\n",
        "\n",
        "sns.boxplot(df_tips['total_bill'])\n",
        "plt.suptitle(\"Boxplot of Total bill amount\", fontsize=14, fontdict={\"weight\": \"bold\"})\n",
        "plt.show()"
      ],
      "metadata": {
        "colab": {
          "base_uri": "https://localhost:8080/",
          "height": 364
        },
        "id": "_nLjuKGLDrIi",
        "outputId": "9d334608-276b-4c41-9aae-055f918fa438"
      },
      "execution_count": 5,
      "outputs": [
        {
          "output_type": "stream",
          "name": "stderr",
          "text": [
            "/usr/local/lib/python3.7/dist-packages/seaborn/_decorators.py:43: FutureWarning: Pass the following variable as a keyword arg: x. From version 0.12, the only valid positional argument will be `data`, and passing other arguments without an explicit keyword will result in an error or misinterpretation.\n",
            "  FutureWarning\n"
          ]
        },
        {
          "output_type": "display_data",
          "data": {
            "text/plain": [
              "<Figure size 432x288 with 1 Axes>"
            ],
            "image/png": "[encoded data removed]"
          },
          "metadata": {
            "needs_background": "light"
          }
        }
      ]
    },
    {
      "cell_type": "code",
      "source": [
        "## Boxplot using Matplotlib\n",
        "\n",
        "plt.boxplot(df_tips['total_bill'])\n",
        "plt.title(\"Boxplot of Total bill amount\")\n",
        "plt.show()"
      ],
      "metadata": {
        "colab": {
          "base_uri": "https://localhost:8080/",
          "height": 281
        },
        "id": "b9bZCGifEErZ",
        "outputId": "43362571-f9ba-401e-dd4f-55187d793bba"
      },
      "execution_count": 6,
      "outputs": [
        {
          "output_type": "display_data",
          "data": {
            "text/plain": [
              "<Figure size 432x288 with 1 Axes>"
            ],
            "image/png": "[encoded data removed]"
          },
          "metadata": {
            "needs_background": "light"
          }
        }
      ]
    },
    {
      "cell_type": "markdown",
      "source": [
        "*2. Pandas Data frame Manipulation*\n",
        "\n"
      ],
      "metadata": {
        "id": "ATsN-gnDEcg4"
      }
    },
    {
      "cell_type": "code",
      "source": [
        "df_tips.head()"
      ],
      "metadata": {
        "colab": {
          "base_uri": "https://localhost:8080/",
          "height": 206
        },
        "id": "UsAxnUlJEh9p",
        "outputId": "97d8b917-bd47-4a8e-8122-929283f26961"
      },
      "execution_count": 7,
      "outputs": [
        {
          "output_type": "execute_result",
          "data": {
            "text/plain": [
              "   total_bill   tip     sex smoker  day    time  size\n",
              "0       16.99  1.01  Female     No  Sun  Dinner     2\n",
              "1       10.34  1.66    Male     No  Sun  Dinner     3\n",
              "2       21.01  3.50    Male     No  Sun  Dinner     3\n",
              "3       23.68  3.31    Male     No  Sun  Dinner     2\n",
              "4       24.59  3.61  Female     No  Sun  Dinner     4"
            ],
            "text/html": [
              "\n",
              "  <div id=\"df-6f67ba1f-f1fd-46fc-acb0-68a10363a8a9\">\n",
              "    <div class=\"colab-df-container\">\n",
              "      <div>\n",
              "<style scoped>\n",
              "    .dataframe tbody tr th:only-of-type {\n",
              "        vertical-align: middle;\n",
              "    }\n",
              "\n",
              "    .dataframe tbody tr th {\n",
              "        vertical-align: top;\n",
              "    }\n",
              "\n",
              "    .dataframe thead th {\n",
              "        text-align: right;\n",
              "    }\n",
              "</style>\n",
              "<table border=\"1\" class=\"dataframe\">\n",
              "  <thead>\n",
              "    <tr style=\"text-align: right;\">\n",
              "      <th></th>\n",
              "      <th>total_bill</th>\n",
              "      <th>tip</th>\n",
              "      <th>sex</th>\n",
              "      <th>smoker</th>\n",
              "      <th>day</th>\n",
              "      <th>time</th>\n",
              "      <th>size</th>\n",
              "    </tr>\n",
              "  </thead>\n",
              "  <tbody>\n",
              "    <tr>\n",
              "      <th>0</th>\n",
              "      <td>16.99</td>\n",
              "      <td>1.01</td>\n",
              "      <td>Female</td>\n",
              "      <td>No</td>\n",
              "      <td>Sun</td>\n",
              "      <td>Dinner</td>\n",
              "      <td>2</td>\n",
              "    </tr>\n",
              "    <tr>\n",
              "      <th>1</th>\n",
              "      <td>10.34</td>\n",
              "      <td>1.66</td>\n",
              "      <td>Male</td>\n",
              "      <td>No</td>\n",
              "      <td>Sun</td>\n",
              "      <td>Dinner</td>\n",
              "      <td>3</td>\n",
              "    </tr>\n",
              "    <tr>\n",
              "      <th>2</th>\n",
              "      <td>21.01</td>\n",
              "      <td>3.50</td>\n",
              "      <td>Male</td>\n",
              "      <td>No</td>\n",
              "      <td>Sun</td>\n",
              "      <td>Dinner</td>\n",
              "      <td>3</td>\n",
              "    </tr>\n",
              "    <tr>\n",
              "      <th>3</th>\n",
              "      <td>23.68</td>\n",
              "      <td>3.31</td>\n",
              "      <td>Male</td>\n",
              "      <td>No</td>\n",
              "      <td>Sun</td>\n",
              "      <td>Dinner</td>\n",
              "      <td>2</td>\n",
              "    </tr>\n",
              "    <tr>\n",
              "      <th>4</th>\n",
              "      <td>24.59</td>\n",
              "      <td>3.61</td>\n",
              "      <td>Female</td>\n",
              "      <td>No</td>\n",
              "      <td>Sun</td>\n",
              "      <td>Dinner</td>\n",
              "      <td>4</td>\n",
              "    </tr>\n",
              "  </tbody>\n",
              "</table>\n",
              "</div>\n",
              "      <button class=\"colab-df-convert\" onclick=\"convertToInteractive('df-6f67ba1f-f1fd-46fc-acb0-68a10363a8a9')\"\n",
              "              title=\"Convert this dataframe to an interactive table.\"\n",
              "              style=\"display:none;\">\n",
              "        \n",
              "  <svg xmlns=\"http://www.w3.org/2000/svg\" height=\"24px\"viewBox=\"0 0 24 24\"\n",
              "       width=\"24px\">\n",
              "    <path d=\"M0 0h24v24H0V0z\" fill=\"none\"/>\n",
              "    <path d=\"M18.56 5.44l.94 2.06.94-2.06 2.06-.94-2.06-.94-.94-2.06-.94 2.06-2.06.94zm-11 1L8.5 8.5l.94-2.06 2.06-.94-2.06-.94L8.5 2.5l-.94 2.06-2.06.94zm10 10l.94 2.06.94-2.06 2.06-.94-2.06-.94-.94-2.06-.94 2.06-2.06.94z\"/><path d=\"M17.41 7.96l-1.37-1.37c-.4-.4-.92-.59-1.43-.59-.52 0-1.04.2-1.43.59L10.3 9.45l-7.72 7.72c-.78.78-.78 2.05 0 2.83L4 21.41c.39.39.9.59 1.41.59.51 0 1.02-.2 1.41-.59l7.78-7.78 2.81-2.81c.8-.78.8-2.07 0-2.86zM5.41 20L4 18.59l7.72-7.72 1.47 1.35L5.41 20z\"/>\n",
              "  </svg>\n",
              "      </button>\n",
              "      \n",
              "  <style>\n",
              "    .colab-df-container {\n",
              "      display:flex;\n",
              "      flex-wrap:wrap;\n",
              "      gap: 12px;\n",
              "    }\n",
              "\n",
              "    .colab-df-convert {\n",
              "      background-color: #E8F0FE;\n",
              "      border: none;\n",
              "      border-radius: 50%;\n",
              "      cursor: pointer;\n",
              "      display: none;\n",
              "      fill: #1967D2;\n",
              "      height: 32px;\n",
              "      padding: 0 0 0 0;\n",
              "      width: 32px;\n",
              "    }\n",
              "\n",
              "    .colab-df-convert:hover {\n",
              "      background-color: #E2EBFA;\n",
              "      box-shadow: 0px 1px 2px rgba(60, 64, 67, 0.3), 0px 1px 3px 1px rgba(60, 64, 67, 0.15);\n",
              "      fill: #174EA6;\n",
              "    }\n",
              "\n",
              "    [theme=dark] .colab-df-convert {\n",
              "      background-color: #3B4455;\n",
              "      fill: #D2E3FC;\n",
              "    }\n",
              "\n",
              "    [theme=dark] .colab-df-convert:hover {\n",
              "      background-color: #434B5C;\n",
              "      box-shadow: 0px 1px 3px 1px rgba(0, 0, 0, 0.15);\n",
              "      filter: drop-shadow(0px 1px 2px rgba(0, 0, 0, 0.3));\n",
              "      fill: #FFFFFF;\n",
              "    }\n",
              "  </style>\n",
              "\n",
              "      <script>\n",
              "        const buttonEl =\n",
              "          document.querySelector('#df-6f67ba1f-f1fd-46fc-acb0-68a10363a8a9 button.colab-df-convert');\n",
              "        buttonEl.style.display =\n",
              "          google.colab.kernel.accessAllowed ? 'block' : 'none';\n",
              "\n",
              "        async function convertToInteractive(key) {\n",
              "          const element = document.querySelector('#df-6f67ba1f-f1fd-46fc-acb0-68a10363a8a9');\n",
              "          const dataTable =\n",
              "            await google.colab.kernel.invokeFunction('convertToInteractive',\n",
              "                                                     [key], {});\n",
              "          if (!dataTable) return;\n",
              "\n",
              "          const docLinkHtml = 'Like what you see? Visit the ' +\n",
              "            '<a target=\"_blank\" href=https://colab.research.google.com/notebooks/data_table.ipynb>data table notebook</a>'\n",
              "            + ' to learn more about interactive tables.';\n",
              "          element.innerHTML = '';\n",
              "          dataTable['output_type'] = 'display_data';\n",
              "          await google.colab.output.renderOutput(dataTable, element);\n",
              "          const docLink = document.createElement('div');\n",
              "          docLink.innerHTML = docLinkHtml;\n",
              "          element.appendChild(docLink);\n",
              "        }\n",
              "      </script>\n",
              "    </div>\n",
              "  </div>\n",
              "  "
            ]
          },
          "metadata": {},
          "execution_count": 7
        }
      ]
    },
    {
      "cell_type": "code",
      "source": [
        "## Pick columns by name\n",
        "df_tips['sex'].head()"
      ],
      "metadata": {
        "colab": {
          "base_uri": "https://localhost:8080/"
        },
        "id": "_vZ0gEoVEvOz",
        "outputId": "34f0c777-2976-4486-ea27-66a0418ab99a"
      },
      "execution_count": 8,
      "outputs": [
        {
          "output_type": "execute_result",
          "data": {
            "text/plain": [
              "0    Female\n",
              "1      Male\n",
              "2      Male\n",
              "3      Male\n",
              "4    Female\n",
              "Name: sex, dtype: category\n",
              "Categories (2, object): ['Male', 'Female']"
            ]
          },
          "metadata": {},
          "execution_count": 8
        }
      ]
    },
    {
      "cell_type": "code",
      "source": [
        "## Pick columns and rows by index name\n",
        "\n",
        "#pick first 2 rows/records of columns 'sex' and 'tip'\n",
        "df_tips.loc[[0,1], ['sex','tip']]\n"
      ],
      "metadata": {
        "colab": {
          "base_uri": "https://localhost:8080/",
          "height": 112
        },
        "id": "jFG5NbZ3E438",
        "outputId": "f196bed2-8bbe-4a0a-d7d5-ebd0f740b9b5"
      },
      "execution_count": 9,
      "outputs": [
        {
          "output_type": "execute_result",
          "data": {
            "text/plain": [
              "      sex   tip\n",
              "0  Female  1.01\n",
              "1    Male  1.66"
            ],
            "text/html": [
              "\n",
              "  <div id=\"df-e946b731-2512-47ee-82c3-23fffa536795\">\n",
              "    <div class=\"colab-df-container\">\n",
              "      <div>\n",
              "<style scoped>\n",
              "    .dataframe tbody tr th:only-of-type {\n",
              "        vertical-align: middle;\n",
              "    }\n",
              "\n",
              "    .dataframe tbody tr th {\n",
              "        vertical-align: top;\n",
              "    }\n",
              "\n",
              "    .dataframe thead th {\n",
              "        text-align: right;\n",
              "    }\n",
              "</style>\n",
              "<table border=\"1\" class=\"dataframe\">\n",
              "  <thead>\n",
              "    <tr style=\"text-align: right;\">\n",
              "      <th></th>\n",
              "      <th>sex</th>\n",
              "      <th>tip</th>\n",
              "    </tr>\n",
              "  </thead>\n",
              "  <tbody>\n",
              "    <tr>\n",
              "      <th>0</th>\n",
              "      <td>Female</td>\n",
              "      <td>1.01</td>\n",
              "    </tr>\n",
              "    <tr>\n",
              "      <th>1</th>\n",
              "      <td>Male</td>\n",
              "      <td>1.66</td>\n",
              "    </tr>\n",
              "  </tbody>\n",
              "</table>\n",
              "</div>\n",
              "      <button class=\"colab-df-convert\" onclick=\"convertToInteractive('df-e946b731-2512-47ee-82c3-23fffa536795')\"\n",
              "              title=\"Convert this dataframe to an interactive table.\"\n",
              "              style=\"display:none;\">\n",
              "        \n",
              "  <svg xmlns=\"http://www.w3.org/2000/svg\" height=\"24px\"viewBox=\"0 0 24 24\"\n",
              "       width=\"24px\">\n",
              "    <path d=\"M0 0h24v24H0V0z\" fill=\"none\"/>\n",
              "    <path d=\"M18.56 5.44l.94 2.06.94-2.06 2.06-.94-2.06-.94-.94-2.06-.94 2.06-2.06.94zm-11 1L8.5 8.5l.94-2.06 2.06-.94-2.06-.94L8.5 2.5l-.94 2.06-2.06.94zm10 10l.94 2.06.94-2.06 2.06-.94-2.06-.94-.94-2.06-.94 2.06-2.06.94z\"/><path d=\"M17.41 7.96l-1.37-1.37c-.4-.4-.92-.59-1.43-.59-.52 0-1.04.2-1.43.59L10.3 9.45l-7.72 7.72c-.78.78-.78 2.05 0 2.83L4 21.41c.39.39.9.59 1.41.59.51 0 1.02-.2 1.41-.59l7.78-7.78 2.81-2.81c.8-.78.8-2.07 0-2.86zM5.41 20L4 18.59l7.72-7.72 1.47 1.35L5.41 20z\"/>\n",
              "  </svg>\n",
              "      </button>\n",
              "      \n",
              "  <style>\n",
              "    .colab-df-container {\n",
              "      display:flex;\n",
              "      flex-wrap:wrap;\n",
              "      gap: 12px;\n",
              "    }\n",
              "\n",
              "    .colab-df-convert {\n",
              "      background-color: #E8F0FE;\n",
              "      border: none;\n",
              "      border-radius: 50%;\n",
              "      cursor: pointer;\n",
              "      display: none;\n",
              "      fill: #1967D2;\n",
              "      height: 32px;\n",
              "      padding: 0 0 0 0;\n",
              "      width: 32px;\n",
              "    }\n",
              "\n",
              "    .colab-df-convert:hover {\n",
              "      background-color: #E2EBFA;\n",
              "      box-shadow: 0px 1px 2px rgba(60, 64, 67, 0.3), 0px 1px 3px 1px rgba(60, 64, 67, 0.15);\n",
              "      fill: #174EA6;\n",
              "    }\n",
              "\n",
              "    [theme=dark] .colab-df-convert {\n",
              "      background-color: #3B4455;\n",
              "      fill: #D2E3FC;\n",
              "    }\n",
              "\n",
              "    [theme=dark] .colab-df-convert:hover {\n",
              "      background-color: #434B5C;\n",
              "      box-shadow: 0px 1px 3px 1px rgba(0, 0, 0, 0.15);\n",
              "      filter: drop-shadow(0px 1px 2px rgba(0, 0, 0, 0.3));\n",
              "      fill: #FFFFFF;\n",
              "    }\n",
              "  </style>\n",
              "\n",
              "      <script>\n",
              "        const buttonEl =\n",
              "          document.querySelector('#df-e946b731-2512-47ee-82c3-23fffa536795 button.colab-df-convert');\n",
              "        buttonEl.style.display =\n",
              "          google.colab.kernel.accessAllowed ? 'block' : 'none';\n",
              "\n",
              "        async function convertToInteractive(key) {\n",
              "          const element = document.querySelector('#df-e946b731-2512-47ee-82c3-23fffa536795');\n",
              "          const dataTable =\n",
              "            await google.colab.kernel.invokeFunction('convertToInteractive',\n",
              "                                                     [key], {});\n",
              "          if (!dataTable) return;\n",
              "\n",
              "          const docLinkHtml = 'Like what you see? Visit the ' +\n",
              "            '<a target=\"_blank\" href=https://colab.research.google.com/notebooks/data_table.ipynb>data table notebook</a>'\n",
              "            + ' to learn more about interactive tables.';\n",
              "          element.innerHTML = '';\n",
              "          dataTable['output_type'] = 'display_data';\n",
              "          await google.colab.output.renderOutput(dataTable, element);\n",
              "          const docLink = document.createElement('div');\n",
              "          docLink.innerHTML = docLinkHtml;\n",
              "          element.appendChild(docLink);\n",
              "        }\n",
              "      </script>\n",
              "    </div>\n",
              "  </div>\n",
              "  "
            ]
          },
          "metadata": {},
          "execution_count": 9
        }
      ]
    },
    {
      "cell_type": "code",
      "source": [
        "## Pick columns and orws by index location\n",
        "\n",
        "# pick second & third rows from columns total_bill and sex\n",
        "df_tips.iloc[[1,2],[0,2]]\n"
      ],
      "metadata": {
        "colab": {
          "base_uri": "https://localhost:8080/",
          "height": 112
        },
        "id": "KUdYCVgnFXNu",
        "outputId": "be96dd13-3461-4774-b214-c5d8044c52e8"
      },
      "execution_count": 10,
      "outputs": [
        {
          "output_type": "execute_result",
          "data": {
            "text/plain": [
              "   total_bill   sex\n",
              "1       10.34  Male\n",
              "2       21.01  Male"
            ],
            "text/html": [
              "\n",
              "  <div id=\"df-78a0afdd-192e-4a01-9c8b-538ea532f9bc\">\n",
              "    <div class=\"colab-df-container\">\n",
              "      <div>\n",
              "<style scoped>\n",
              "    .dataframe tbody tr th:only-of-type {\n",
              "        vertical-align: middle;\n",
              "    }\n",
              "\n",
              "    .dataframe tbody tr th {\n",
              "        vertical-align: top;\n",
              "    }\n",
              "\n",
              "    .dataframe thead th {\n",
              "        text-align: right;\n",
              "    }\n",
              "</style>\n",
              "<table border=\"1\" class=\"dataframe\">\n",
              "  <thead>\n",
              "    <tr style=\"text-align: right;\">\n",
              "      <th></th>\n",
              "      <th>total_bill</th>\n",
              "      <th>sex</th>\n",
              "    </tr>\n",
              "  </thead>\n",
              "  <tbody>\n",
              "    <tr>\n",
              "      <th>1</th>\n",
              "      <td>10.34</td>\n",
              "      <td>Male</td>\n",
              "    </tr>\n",
              "    <tr>\n",
              "      <th>2</th>\n",
              "      <td>21.01</td>\n",
              "      <td>Male</td>\n",
              "    </tr>\n",
              "  </tbody>\n",
              "</table>\n",
              "</div>\n",
              "      <button class=\"colab-df-convert\" onclick=\"convertToInteractive('df-78a0afdd-192e-4a01-9c8b-538ea532f9bc')\"\n",
              "              title=\"Convert this dataframe to an interactive table.\"\n",
              "              style=\"display:none;\">\n",
              "        \n",
              "  <svg xmlns=\"http://www.w3.org/2000/svg\" height=\"24px\"viewBox=\"0 0 24 24\"\n",
              "       width=\"24px\">\n",
              "    <path d=\"M0 0h24v24H0V0z\" fill=\"none\"/>\n",
              "    <path d=\"M18.56 5.44l.94 2.06.94-2.06 2.06-.94-2.06-.94-.94-2.06-.94 2.06-2.06.94zm-11 1L8.5 8.5l.94-2.06 2.06-.94-2.06-.94L8.5 2.5l-.94 2.06-2.06.94zm10 10l.94 2.06.94-2.06 2.06-.94-2.06-.94-.94-2.06-.94 2.06-2.06.94z\"/><path d=\"M17.41 7.96l-1.37-1.37c-.4-.4-.92-.59-1.43-.59-.52 0-1.04.2-1.43.59L10.3 9.45l-7.72 7.72c-.78.78-.78 2.05 0 2.83L4 21.41c.39.39.9.59 1.41.59.51 0 1.02-.2 1.41-.59l7.78-7.78 2.81-2.81c.8-.78.8-2.07 0-2.86zM5.41 20L4 18.59l7.72-7.72 1.47 1.35L5.41 20z\"/>\n",
              "  </svg>\n",
              "      </button>\n",
              "      \n",
              "  <style>\n",
              "    .colab-df-container {\n",
              "      display:flex;\n",
              "      flex-wrap:wrap;\n",
              "      gap: 12px;\n",
              "    }\n",
              "\n",
              "    .colab-df-convert {\n",
              "      background-color: #E8F0FE;\n",
              "      border: none;\n",
              "      border-radius: 50%;\n",
              "      cursor: pointer;\n",
              "      display: none;\n",
              "      fill: #1967D2;\n",
              "      height: 32px;\n",
              "      padding: 0 0 0 0;\n",
              "      width: 32px;\n",
              "    }\n",
              "\n",
              "    .colab-df-convert:hover {\n",
              "      background-color: #E2EBFA;\n",
              "      box-shadow: 0px 1px 2px rgba(60, 64, 67, 0.3), 0px 1px 3px 1px rgba(60, 64, 67, 0.15);\n",
              "      fill: #174EA6;\n",
              "    }\n",
              "\n",
              "    [theme=dark] .colab-df-convert {\n",
              "      background-color: #3B4455;\n",
              "      fill: #D2E3FC;\n",
              "    }\n",
              "\n",
              "    [theme=dark] .colab-df-convert:hover {\n",
              "      background-color: #434B5C;\n",
              "      box-shadow: 0px 1px 3px 1px rgba(0, 0, 0, 0.15);\n",
              "      filter: drop-shadow(0px 1px 2px rgba(0, 0, 0, 0.3));\n",
              "      fill: #FFFFFF;\n",
              "    }\n",
              "  </style>\n",
              "\n",
              "      <script>\n",
              "        const buttonEl =\n",
              "          document.querySelector('#df-78a0afdd-192e-4a01-9c8b-538ea532f9bc button.colab-df-convert');\n",
              "        buttonEl.style.display =\n",
              "          google.colab.kernel.accessAllowed ? 'block' : 'none';\n",
              "\n",
              "        async function convertToInteractive(key) {\n",
              "          const element = document.querySelector('#df-78a0afdd-192e-4a01-9c8b-538ea532f9bc');\n",
              "          const dataTable =\n",
              "            await google.colab.kernel.invokeFunction('convertToInteractive',\n",
              "                                                     [key], {});\n",
              "          if (!dataTable) return;\n",
              "\n",
              "          const docLinkHtml = 'Like what you see? Visit the ' +\n",
              "            '<a target=\"_blank\" href=https://colab.research.google.com/notebooks/data_table.ipynb>data table notebook</a>'\n",
              "            + ' to learn more about interactive tables.';\n",
              "          element.innerHTML = '';\n",
              "          dataTable['output_type'] = 'display_data';\n",
              "          await google.colab.output.renderOutput(dataTable, element);\n",
              "          const docLink = document.createElement('div');\n",
              "          docLink.innerHTML = docLinkHtml;\n",
              "          element.appendChild(docLink);\n",
              "        }\n",
              "      </script>\n",
              "    </div>\n",
              "  </div>\n",
              "  "
            ]
          },
          "metadata": {},
          "execution_count": 10
        }
      ]
    },
    {
      "cell_type": "markdown",
      "source": [
        "*3.Unit Testing :\n",
        "This is the idea that you should run complicated code on a simple test case that you know that outcome of. If your code outputs something you did not expect, then you know there is an error somewhere that must be fixed. When working with large datasets, it is easy to get reasonable output that is actually measuring something different than you wanted.*"
      ],
      "metadata": {
        "id": "TbpD_qRQGdXh"
      }
    },
    {
      "cell_type": "code",
      "source": [
        "# create a dataframe\n",
        "df = pd.DataFrame({'col1':[1, 2, 3], 'col2':[3, 4, 5]})\n",
        "df"
      ],
      "metadata": {
        "colab": {
          "base_uri": "https://localhost:8080/",
          "height": 143
        },
        "id": "8tE-oGp-GRSf",
        "outputId": "e0aa5c70-bdbb-4c3b-83a3-6ebb9a90c213"
      },
      "execution_count": 11,
      "outputs": [
        {
          "output_type": "execute_result",
          "data": {
            "text/plain": [
              "   col1  col2\n",
              "0     1     3\n",
              "1     2     4\n",
              "2     3     5"
            ],
            "text/html": [
              "\n",
              "  <div id=\"df-67f338fd-4aaa-4b4c-b600-bca11f7e5f41\">\n",
              "    <div class=\"colab-df-container\">\n",
              "      <div>\n",
              "<style scoped>\n",
              "    .dataframe tbody tr th:only-of-type {\n",
              "        vertical-align: middle;\n",
              "    }\n",
              "\n",
              "    .dataframe tbody tr th {\n",
              "        vertical-align: top;\n",
              "    }\n",
              "\n",
              "    .dataframe thead th {\n",
              "        text-align: right;\n",
              "    }\n",
              "</style>\n",
              "<table border=\"1\" class=\"dataframe\">\n",
              "  <thead>\n",
              "    <tr style=\"text-align: right;\">\n",
              "      <th></th>\n",
              "      <th>col1</th>\n",
              "      <th>col2</th>\n",
              "    </tr>\n",
              "  </thead>\n",
              "  <tbody>\n",
              "    <tr>\n",
              "      <th>0</th>\n",
              "      <td>1</td>\n",
              "      <td>3</td>\n",
              "    </tr>\n",
              "    <tr>\n",
              "      <th>1</th>\n",
              "      <td>2</td>\n",
              "      <td>4</td>\n",
              "    </tr>\n",
              "    <tr>\n",
              "      <th>2</th>\n",
              "      <td>3</td>\n",
              "      <td>5</td>\n",
              "    </tr>\n",
              "  </tbody>\n",
              "</table>\n",
              "</div>\n",
              "      <button class=\"colab-df-convert\" onclick=\"convertToInteractive('df-67f338fd-4aaa-4b4c-b600-bca11f7e5f41')\"\n",
              "              title=\"Convert this dataframe to an interactive table.\"\n",
              "              style=\"display:none;\">\n",
              "        \n",
              "  <svg xmlns=\"http://www.w3.org/2000/svg\" height=\"24px\"viewBox=\"0 0 24 24\"\n",
              "       width=\"24px\">\n",
              "    <path d=\"M0 0h24v24H0V0z\" fill=\"none\"/>\n",
              "    <path d=\"M18.56 5.44l.94 2.06.94-2.06 2.06-.94-2.06-.94-.94-2.06-.94 2.06-2.06.94zm-11 1L8.5 8.5l.94-2.06 2.06-.94-2.06-.94L8.5 2.5l-.94 2.06-2.06.94zm10 10l.94 2.06.94-2.06 2.06-.94-2.06-.94-.94-2.06-.94 2.06-2.06.94z\"/><path d=\"M17.41 7.96l-1.37-1.37c-.4-.4-.92-.59-1.43-.59-.52 0-1.04.2-1.43.59L10.3 9.45l-7.72 7.72c-.78.78-.78 2.05 0 2.83L4 21.41c.39.39.9.59 1.41.59.51 0 1.02-.2 1.41-.59l7.78-7.78 2.81-2.81c.8-.78.8-2.07 0-2.86zM5.41 20L4 18.59l7.72-7.72 1.47 1.35L5.41 20z\"/>\n",
              "  </svg>\n",
              "      </button>\n",
              "      \n",
              "  <style>\n",
              "    .colab-df-container {\n",
              "      display:flex;\n",
              "      flex-wrap:wrap;\n",
              "      gap: 12px;\n",
              "    }\n",
              "\n",
              "    .colab-df-convert {\n",
              "      background-color: #E8F0FE;\n",
              "      border: none;\n",
              "      border-radius: 50%;\n",
              "      cursor: pointer;\n",
              "      display: none;\n",
              "      fill: #1967D2;\n",
              "      height: 32px;\n",
              "      padding: 0 0 0 0;\n",
              "      width: 32px;\n",
              "    }\n",
              "\n",
              "    .colab-df-convert:hover {\n",
              "      background-color: #E2EBFA;\n",
              "      box-shadow: 0px 1px 2px rgba(60, 64, 67, 0.3), 0px 1px 3px 1px rgba(60, 64, 67, 0.15);\n",
              "      fill: #174EA6;\n",
              "    }\n",
              "\n",
              "    [theme=dark] .colab-df-convert {\n",
              "      background-color: #3B4455;\n",
              "      fill: #D2E3FC;\n",
              "    }\n",
              "\n",
              "    [theme=dark] .colab-df-convert:hover {\n",
              "      background-color: #434B5C;\n",
              "      box-shadow: 0px 1px 3px 1px rgba(0, 0, 0, 0.15);\n",
              "      filter: drop-shadow(0px 1px 2px rgba(0, 0, 0, 0.3));\n",
              "      fill: #FFFFFF;\n",
              "    }\n",
              "  </style>\n",
              "\n",
              "      <script>\n",
              "        const buttonEl =\n",
              "          document.querySelector('#df-67f338fd-4aaa-4b4c-b600-bca11f7e5f41 button.colab-df-convert');\n",
              "        buttonEl.style.display =\n",
              "          google.colab.kernel.accessAllowed ? 'block' : 'none';\n",
              "\n",
              "        async function convertToInteractive(key) {\n",
              "          const element = document.querySelector('#df-67f338fd-4aaa-4b4c-b600-bca11f7e5f41');\n",
              "          const dataTable =\n",
              "            await google.colab.kernel.invokeFunction('convertToInteractive',\n",
              "                                                     [key], {});\n",
              "          if (!dataTable) return;\n",
              "\n",
              "          const docLinkHtml = 'Like what you see? Visit the ' +\n",
              "            '<a target=\"_blank\" href=https://colab.research.google.com/notebooks/data_table.ipynb>data table notebook</a>'\n",
              "            + ' to learn more about interactive tables.';\n",
              "          element.innerHTML = '';\n",
              "          dataTable['output_type'] = 'display_data';\n",
              "          await google.colab.output.renderOutput(dataTable, element);\n",
              "          const docLink = document.createElement('div');\n",
              "          docLink.innerHTML = docLinkHtml;\n",
              "          element.appendChild(docLink);\n",
              "        }\n",
              "      </script>\n",
              "    </div>\n",
              "  </div>\n",
              "  "
            ]
          },
          "metadata": {},
          "execution_count": 11
        }
      ]
    },
    {
      "cell_type": "code",
      "source": [
        "# find the mean of the first row\n",
        "\n",
        "df.mean()[0]"
      ],
      "metadata": {
        "colab": {
          "base_uri": "https://localhost:8080/"
        },
        "id": "7nyR-1JCGxsi",
        "outputId": "57ff84fb-6f6e-48db-b65a-840225bdcca1"
      },
      "execution_count": 12,
      "outputs": [
        {
          "output_type": "execute_result",
          "data": {
            "text/plain": [
              "2.0"
            ]
          },
          "metadata": {},
          "execution_count": 12
        }
      ]
    },
    {
      "cell_type": "code",
      "source": [
        "# find the mean of the first column\n",
        "\n",
        "df.mean()['col1']"
      ],
      "metadata": {
        "colab": {
          "base_uri": "https://localhost:8080/"
        },
        "id": "JHhBBj5fG9G_",
        "outputId": "68f1eb82-ccfe-4f52-f351-0a3ce31481a1"
      },
      "execution_count": 13,
      "outputs": [
        {
          "output_type": "execute_result",
          "data": {
            "text/plain": [
              "2.0"
            ]
          },
          "metadata": {},
          "execution_count": 13
        }
      ]
    },
    {
      "cell_type": "code",
      "source": [
        "# Use the argument 'axis=1' to return the means of each row in the dataframe\n",
        "# Use 'axis=0' (which is the default) to return the means of each column in the dataframe\n",
        "# The Pandas .mean() method returns a series which can be accessed by a bracketed index value\n",
        "print(df.mean(axis=1))\n",
        "print(\"\\n\")\n",
        "print(type(df.mean(axis=1)))\n",
        "print(\"\\n\")\n",
        "print(df.mean(axis=0))\n",
        "print(\"\\n\")\n",
        "print(df.mean(axis=1)[2])\n",
        "print(\"\\n\")\n",
        "print(df.mean(axis=0)[1])"
      ],
      "metadata": {
        "colab": {
          "base_uri": "https://localhost:8080/"
        },
        "id": "Mlg27MAzHVec",
        "outputId": "378ecc26-70e9-4e63-a3f8-b8fdb9e91951"
      },
      "execution_count": 14,
      "outputs": [
        {
          "output_type": "stream",
          "name": "stdout",
          "text": [
            "0    2.0\n",
            "1    3.0\n",
            "2    4.0\n",
            "dtype: float64\n",
            "\n",
            "\n",
            "<class 'pandas.core.series.Series'>\n",
            "\n",
            "\n",
            "col1    2.0\n",
            "col2    4.0\n",
            "dtype: float64\n",
            "\n",
            "\n",
            "4.0\n",
            "\n",
            "\n",
            "4.0\n"
          ]
        }
      ]
    },
    {
      "cell_type": "markdown",
      "source": [
        "*4.Randomness and reproducibility:\n",
        "In Python, we refer to randomness as the ability to generate data, strings, or, more generally, numbers at random.However, when conducting analysis it is important to consider reproducibility. If we are creating random data, how can we enable reproducible analysis? We do this by utilizing pseudo-random number generators (PRNGs). PRNGs start with a random number, known as the seed, and then use an algorithm to generate a psuedo-random sequence based on it. This means that we can replicate the output of a random number generator in python simply by knowing which seed was used.We can showcase this by using the functions in the python library random.*"
      ],
      "metadata": {
        "id": "Yb6XX7npIT9X"
      }
    },
    {
      "cell_type": "code",
      "source": [
        "import random\n",
        "\n",
        "random.seed(1234)\n",
        "random.random()"
      ],
      "metadata": {
        "colab": {
          "base_uri": "https://localhost:8080/"
        },
        "id": "wJp7KLaiIRTP",
        "outputId": "9988e53e-166b-469c-8e04-1660f4f75838"
      },
      "execution_count": 15,
      "outputs": [
        {
          "output_type": "execute_result",
          "data": {
            "text/plain": [
              "0.9664535356921388"
            ]
          },
          "metadata": {},
          "execution_count": 15
        }
      ]
    },
    {
      "cell_type": "code",
      "source": [
        "random.seed(1234)\n",
        "random.random()"
      ],
      "metadata": {
        "colab": {
          "base_uri": "https://localhost:8080/"
        },
        "id": "wJfHi9bvIv-X",
        "outputId": "9c409031-fb3d-4bc3-f6d4-8e59bab87604"
      },
      "execution_count": 16,
      "outputs": [
        {
          "output_type": "execute_result",
          "data": {
            "text/plain": [
              "0.9664535356921388"
            ]
          },
          "metadata": {},
          "execution_count": 16
        }
      ]
    },
    {
      "cell_type": "markdown",
      "source": [
        "*The Random library includes standard distributions that may come handy*"
      ],
      "metadata": {
        "id": "_PEn1N3TI3SV"
      }
    },
    {
      "cell_type": "code",
      "source": [
        "# Uniform distribution\n",
        "\n",
        "random.uniform(25,50)"
      ],
      "metadata": {
        "colab": {
          "base_uri": "https://localhost:8080/"
        },
        "id": "5AR9LEeWI0w1",
        "outputId": "a4d288dd-2eeb-409e-e2c5-cc65a4ff4bb6"
      },
      "execution_count": 17,
      "outputs": [
        {
          "output_type": "execute_result",
          "data": {
            "text/plain": [
              "36.01831497938382"
            ]
          },
          "metadata": {},
          "execution_count": 17
        }
      ]
    },
    {
      "cell_type": "code",
      "source": [
        "mu = 0\n",
        "\n",
        "sigma = 1\n",
        "\n",
        "random.normalvariate(mu, sigma)"
      ],
      "metadata": {
        "colab": {
          "base_uri": "https://localhost:8080/"
        },
        "id": "g7q_UI9uJJjF",
        "outputId": "fc76f0be-3aa2-430d-e537-31ba38b3b535"
      },
      "execution_count": 18,
      "outputs": [
        {
          "output_type": "execute_result",
          "data": {
            "text/plain": [
              "1.8038006216944658"
            ]
          },
          "metadata": {},
          "execution_count": 18
        }
      ]
    },
    {
      "cell_type": "markdown",
      "source": [
        "*5.List comprehension: \n",
        "List comprehensions allow you to easy create lists. They follow the format*:\n",
        "\n",
        "```\n",
        "my_list = [expression(i) for i in input list]\n",
        "```\n",
        "\n",
        "\n",
        "\n"
      ],
      "metadata": {
        "id": "5dhY_jgAJcuc"
      }
    },
    {
      "cell_type": "code",
      "source": [
        "# Plot the sin curve from - π  to  π \n",
        "x = np.linspace(-np.pi, np.pi, 100)  #create a list of 100 equally spaced points between -pi and pi\n",
        "x"
      ],
      "metadata": {
        "colab": {
          "base_uri": "https://localhost:8080/"
        },
        "id": "3bRi30OPJP2s",
        "outputId": "8733e74f-8ff1-4e55-cd46-34ff0bf90f16"
      },
      "execution_count": 19,
      "outputs": [
        {
          "output_type": "execute_result",
          "data": {
            "text/plain": [
              "array([-3.14159265, -3.07812614, -3.01465962, -2.9511931 , -2.88772658,\n",
              "       -2.82426006, -2.76079354, -2.69732703, -2.63386051, -2.57039399,\n",
              "       -2.50692747, -2.44346095, -2.37999443, -2.31652792, -2.2530614 ,\n",
              "       -2.18959488, -2.12612836, -2.06266184, -1.99919533, -1.93572881,\n",
              "       -1.87226229, -1.80879577, -1.74532925, -1.68186273, -1.61839622,\n",
              "       -1.5549297 , -1.49146318, -1.42799666, -1.36453014, -1.30106362,\n",
              "       -1.23759711, -1.17413059, -1.11066407, -1.04719755, -0.98373103,\n",
              "       -0.92026451, -0.856798  , -0.79333148, -0.72986496, -0.66639844,\n",
              "       -0.60293192, -0.53946541, -0.47599889, -0.41253237, -0.34906585,\n",
              "       -0.28559933, -0.22213281, -0.1586663 , -0.09519978, -0.03173326,\n",
              "        0.03173326,  0.09519978,  0.1586663 ,  0.22213281,  0.28559933,\n",
              "        0.34906585,  0.41253237,  0.47599889,  0.53946541,  0.60293192,\n",
              "        0.66639844,  0.72986496,  0.79333148,  0.856798  ,  0.92026451,\n",
              "        0.98373103,  1.04719755,  1.11066407,  1.17413059,  1.23759711,\n",
              "        1.30106362,  1.36453014,  1.42799666,  1.49146318,  1.5549297 ,\n",
              "        1.61839622,  1.68186273,  1.74532925,  1.80879577,  1.87226229,\n",
              "        1.93572881,  1.99919533,  2.06266184,  2.12612836,  2.18959488,\n",
              "        2.2530614 ,  2.31652792,  2.37999443,  2.44346095,  2.50692747,\n",
              "        2.57039399,  2.63386051,  2.69732703,  2.76079354,  2.82426006,\n",
              "        2.88772658,  2.9511931 ,  3.01465962,  3.07812614,  3.14159265])"
            ]
          },
          "metadata": {},
          "execution_count": 19
        }
      ]
    },
    {
      "cell_type": "code",
      "source": [
        "# Using list comprehension concpet, for each point in x, we want y=sin(x)\n",
        "y = [np.sin(i) for i in x]\n",
        "\n",
        "# check the first 5 elements of y\n",
        "y[:5]"
      ],
      "metadata": {
        "colab": {
          "base_uri": "https://localhost:8080/"
        },
        "id": "tNWnFf_iJ6sE",
        "outputId": "d7742e84-a8cf-4ebf-c4e4-1237582530c4"
      },
      "execution_count": 20,
      "outputs": [
        {
          "output_type": "execute_result",
          "data": {
            "text/plain": [
              "[-1.2246467991473532e-16,\n",
              " -0.06342391965656484,\n",
              " -0.12659245357374938,\n",
              " -0.1892512443604105,\n",
              " -0.2511479871810793]"
            ]
          },
          "metadata": {},
          "execution_count": 20
        }
      ]
    },
    {
      "cell_type": "code",
      "source": [
        "plt.plot(x,y)\n",
        "plt.show()"
      ],
      "metadata": {
        "colab": {
          "base_uri": "https://localhost:8080/",
          "height": 265
        },
        "id": "2c8vkc-fKVq6",
        "outputId": "bbbb262d-cd88-4561-c770-7c5ffa117603"
      },
      "execution_count": 21,
      "outputs": [
        {
          "output_type": "display_data",
          "data": {
            "text/plain": [
              "<Figure size 432x288 with 1 Axes>"
            ],
            "image/png": "[encoded data removed]"
          },
          "metadata": {
            "needs_background": "light"
          }
        }
      ]
    },
    {
      "cell_type": "markdown",
      "source": [
        "*6.Lists vs. Numpy arrays:Lists can have multiple datatypes. For example one element can be a string and another can be and int and another a float. Lists are defined by using the square brackets: [ ], with elements separated by commas, ','. Ex: \n",
        "```\n",
        "my_list = [1, 'Colorado', 4.7, 'rain']\n",
        "```\n",
        "Lists are indexed by position. In Python, the index starts at 0 and ends at length(list)-1. So to retrieve the first element of the list you call:\n",
        "```\n",
        "my_list[0]\n",
        "```\n",
        "Numpy arrays np.arrays differ from lists is that the contain only 1 datatype. For example all the elements might be ints or strings or floats or objects. It is defined by np.array(object), where the input 'object' can be for example a list or a tuple.\n",
        "Ex: \n",
        "```\n",
        "my_array = np.array([1, 4, 5, 2])\n",
        "```\n",
        "or\n",
        "```\n",
        "my_array = np.array((1, 4, 5, 2))\n",
        "```\n",
        "Lists and numpy arrays differ in their speed and memory efficiency. An intuitive reason for this is that python lists have to store the value of each element and also the type of each element (since the types can differ). Whereas numpy arrays only need to store the type once because it is the same for all the elements in the array.\n",
        "You can do calculations with numpy arrays that can't be done on lists.\n",
        "Ex: \n",
        "```\n",
        "my_array/3\n",
        "```\n",
        "will return a numpy array, with each of the elements divided by 3. Whereas:\n",
        "```\n",
        "my_list/3\n",
        "```\n",
        "Will throw an error.\n",
        "You can appened items to the end of lists and numpy arrays, though they have slightly different commands. It is almost of note that lists can append an item 'in place', but numpy arrays cannot. \n",
        "```\n",
        "my_list.append('new item')\n",
        "```\n",
        "```\n",
        "np.append(my_array, 5) # new element must be of the same type as all other elements\n",
        "```"
      ],
      "metadata": {
        "id": "AZuvQus9NHIO"
      }
    },
    {
      "cell_type": "code",
      "source": [
        "# create a list & an array\n",
        "my_list = [1,2,3]\n",
        "my_array = np.array([1,2,3])"
      ],
      "metadata": {
        "id": "Lf1g8XB7KpX4"
      },
      "execution_count": 22,
      "outputs": []
    },
    {
      "cell_type": "code",
      "source": [
        "# both list & array are indexed by position\n",
        "my_list[0]"
      ],
      "metadata": {
        "colab": {
          "base_uri": "https://localhost:8080/"
        },
        "id": "U1NEuvC-NsBa",
        "outputId": "ff6fa101-4f80-48c0-c704-a7b518a26de0"
      },
      "execution_count": 23,
      "outputs": [
        {
          "output_type": "execute_result",
          "data": {
            "text/plain": [
              "1"
            ]
          },
          "metadata": {},
          "execution_count": 23
        }
      ]
    },
    {
      "cell_type": "code",
      "source": [
        "my_array[0]"
      ],
      "metadata": {
        "colab": {
          "base_uri": "https://localhost:8080/"
        },
        "id": "tQ3VVndvN6Jb",
        "outputId": "c7d7f042-b84c-499c-b596-8596afe867fc"
      },
      "execution_count": 24,
      "outputs": [
        {
          "output_type": "execute_result",
          "data": {
            "text/plain": [
              "1"
            ]
          },
          "metadata": {},
          "execution_count": 24
        }
      ]
    },
    {
      "cell_type": "code",
      "source": [
        "my_list/3   #this should give an error since arithmetic operations cannot be performed on lists"
      ],
      "metadata": {
        "colab": {
          "base_uri": "https://localhost:8080/",
          "height": 166
        },
        "id": "L1MRMjnDN9tv",
        "outputId": "6a6697f6-6e39-4bce-867b-f24195b5f892"
      },
      "execution_count": 26,
      "outputs": [
        {
          "output_type": "error",
          "ename": "TypeError",
          "evalue": "ignored",
          "traceback": [
            "\u001b[0;31m---------------------------------------------------------------------------\u001b[0m",
            "\u001b[0;31mTypeError\u001b[0m                                 Traceback (most recent call last)",
            "\u001b[0;32m<ipython-input-26-a0b5caec8ea6>\u001b[0m in \u001b[0;36m<module>\u001b[0;34m\u001b[0m\n\u001b[0;32m----> 1\u001b[0;31m \u001b[0mmy_list\u001b[0m\u001b[0;34m/\u001b[0m\u001b[0;36m3\u001b[0m   \u001b[0;31m#this should give an error since arithmetic operations cannot be performed on lists\u001b[0m\u001b[0;34m\u001b[0m\u001b[0;34m\u001b[0m\u001b[0m\n\u001b[0m",
            "\u001b[0;31mTypeError\u001b[0m: unsupported operand type(s) for /: 'list' and 'int'"
          ]
        }
      ]
    },
    {
      "cell_type": "code",
      "source": [
        "my_array/3"
      ],
      "metadata": {
        "colab": {
          "base_uri": "https://localhost:8080/"
        },
        "id": "v_fQuYToOAFS",
        "outputId": "abea6ae9-5ad3-4d51-a15f-aaa2fa39f9b5"
      },
      "execution_count": 28,
      "outputs": [
        {
          "output_type": "execute_result",
          "data": {
            "text/plain": [
              "array([0.33333333, 0.66666667, 1.        ])"
            ]
          },
          "metadata": {},
          "execution_count": 28
        }
      ]
    },
    {
      "cell_type": "code",
      "source": [
        "my_list.append(5) #inplace\n",
        "my_list"
      ],
      "metadata": {
        "colab": {
          "base_uri": "https://localhost:8080/"
        },
        "id": "1PuXUL6lOBaw",
        "outputId": "90ab4024-23bc-4740-9354-d7a066b1163d"
      },
      "execution_count": 27,
      "outputs": [
        {
          "output_type": "execute_result",
          "data": {
            "text/plain": [
              "[1, 2, 3, 5]"
            ]
          },
          "metadata": {},
          "execution_count": 27
        }
      ]
    },
    {
      "cell_type": "code",
      "source": [
        "my_array = np.append(my_array,5) #cannot do append beacuse not always contiguous memory\n",
        "my_array"
      ],
      "metadata": {
        "colab": {
          "base_uri": "https://localhost:8080/"
        },
        "id": "ZZ3S5KydOFfj",
        "outputId": "7216af25-4229-4312-9e47-31d45fa21bee"
      },
      "execution_count": 29,
      "outputs": [
        {
          "output_type": "execute_result",
          "data": {
            "text/plain": [
              "array([1, 2, 3, 5])"
            ]
          },
          "metadata": {},
          "execution_count": 29
        }
      ]
    },
    {
      "cell_type": "markdown",
      "source": [
        "*7. Dictionaries : Store key-values pairs and are indexed by the keys. denoted with {key1: value1, key2: value2}. The keys must be unique, the values do not need to be unique.\n",
        "Can be used for many tasks, for example, creating DataFrames and changing column names.*"
      ],
      "metadata": {
        "id": "X1MK_XZAOfTY"
      }
    },
    {
      "cell_type": "code",
      "source": [
        "dct = {'thing1':2, 'thing2':1}\n",
        "dct['thing1']"
      ],
      "metadata": {
        "colab": {
          "base_uri": "https://localhost:8080/"
        },
        "id": "acGbpM-0OZH8",
        "outputId": "d7e9b8b1-add6-4ca7-e17c-9e8e14d5cba1"
      },
      "execution_count": 30,
      "outputs": [
        {
          "output_type": "execute_result",
          "data": {
            "text/plain": [
              "2"
            ]
          },
          "metadata": {},
          "execution_count": 30
        }
      ]
    },
    {
      "cell_type": "code",
      "source": [
        "#adding to the dictionary\n",
        "dct['new thing'] = 'woooo'\n",
        "dct['new thing']"
      ],
      "metadata": {
        "colab": {
          "base_uri": "https://localhost:8080/",
          "height": 35
        },
        "id": "cwS_QThDO1R5",
        "outputId": "756eae9e-053b-4788-e45a-5f9107b11435"
      },
      "execution_count": 31,
      "outputs": [
        {
          "output_type": "execute_result",
          "data": {
            "text/plain": [
              "'woooo'"
            ],
            "application/vnd.google.colaboratory.intrinsic+json": {
              "type": "string"
            }
          },
          "metadata": {},
          "execution_count": 31
        }
      ]
    },
    {
      "cell_type": "code",
      "source": [
        "# create a dataframe\n",
        "df = pd.DataFrame({'col1':range(3), 'col2':range(3,6)})\n",
        "df"
      ],
      "metadata": {
        "colab": {
          "base_uri": "https://localhost:8080/",
          "height": 143
        },
        "id": "4nQRQM0WPDGB",
        "outputId": "b07e57f5-4b88-49bb-9fef-03622447436c"
      },
      "execution_count": 32,
      "outputs": [
        {
          "output_type": "execute_result",
          "data": {
            "text/plain": [
              "   col1  col2\n",
              "0     0     3\n",
              "1     1     4\n",
              "2     2     5"
            ],
            "text/html": [
              "\n",
              "  <div id=\"df-b005a060-1a30-419a-9fd9-63a6105d6a01\">\n",
              "    <div class=\"colab-df-container\">\n",
              "      <div>\n",
              "<style scoped>\n",
              "    .dataframe tbody tr th:only-of-type {\n",
              "        vertical-align: middle;\n",
              "    }\n",
              "\n",
              "    .dataframe tbody tr th {\n",
              "        vertical-align: top;\n",
              "    }\n",
              "\n",
              "    .dataframe thead th {\n",
              "        text-align: right;\n",
              "    }\n",
              "</style>\n",
              "<table border=\"1\" class=\"dataframe\">\n",
              "  <thead>\n",
              "    <tr style=\"text-align: right;\">\n",
              "      <th></th>\n",
              "      <th>col1</th>\n",
              "      <th>col2</th>\n",
              "    </tr>\n",
              "  </thead>\n",
              "  <tbody>\n",
              "    <tr>\n",
              "      <th>0</th>\n",
              "      <td>0</td>\n",
              "      <td>3</td>\n",
              "    </tr>\n",
              "    <tr>\n",
              "      <th>1</th>\n",
              "      <td>1</td>\n",
              "      <td>4</td>\n",
              "    </tr>\n",
              "    <tr>\n",
              "      <th>2</th>\n",
              "      <td>2</td>\n",
              "      <td>5</td>\n",
              "    </tr>\n",
              "  </tbody>\n",
              "</table>\n",
              "</div>\n",
              "      <button class=\"colab-df-convert\" onclick=\"convertToInteractive('df-b005a060-1a30-419a-9fd9-63a6105d6a01')\"\n",
              "              title=\"Convert this dataframe to an interactive table.\"\n",
              "              style=\"display:none;\">\n",
              "        \n",
              "  <svg xmlns=\"http://www.w3.org/2000/svg\" height=\"24px\"viewBox=\"0 0 24 24\"\n",
              "       width=\"24px\">\n",
              "    <path d=\"M0 0h24v24H0V0z\" fill=\"none\"/>\n",
              "    <path d=\"M18.56 5.44l.94 2.06.94-2.06 2.06-.94-2.06-.94-.94-2.06-.94 2.06-2.06.94zm-11 1L8.5 8.5l.94-2.06 2.06-.94-2.06-.94L8.5 2.5l-.94 2.06-2.06.94zm10 10l.94 2.06.94-2.06 2.06-.94-2.06-.94-.94-2.06-.94 2.06-2.06.94z\"/><path d=\"M17.41 7.96l-1.37-1.37c-.4-.4-.92-.59-1.43-.59-.52 0-1.04.2-1.43.59L10.3 9.45l-7.72 7.72c-.78.78-.78 2.05 0 2.83L4 21.41c.39.39.9.59 1.41.59.51 0 1.02-.2 1.41-.59l7.78-7.78 2.81-2.81c.8-.78.8-2.07 0-2.86zM5.41 20L4 18.59l7.72-7.72 1.47 1.35L5.41 20z\"/>\n",
              "  </svg>\n",
              "      </button>\n",
              "      \n",
              "  <style>\n",
              "    .colab-df-container {\n",
              "      display:flex;\n",
              "      flex-wrap:wrap;\n",
              "      gap: 12px;\n",
              "    }\n",
              "\n",
              "    .colab-df-convert {\n",
              "      background-color: #E8F0FE;\n",
              "      border: none;\n",
              "      border-radius: 50%;\n",
              "      cursor: pointer;\n",
              "      display: none;\n",
              "      fill: #1967D2;\n",
              "      height: 32px;\n",
              "      padding: 0 0 0 0;\n",
              "      width: 32px;\n",
              "    }\n",
              "\n",
              "    .colab-df-convert:hover {\n",
              "      background-color: #E2EBFA;\n",
              "      box-shadow: 0px 1px 2px rgba(60, 64, 67, 0.3), 0px 1px 3px 1px rgba(60, 64, 67, 0.15);\n",
              "      fill: #174EA6;\n",
              "    }\n",
              "\n",
              "    [theme=dark] .colab-df-convert {\n",
              "      background-color: #3B4455;\n",
              "      fill: #D2E3FC;\n",
              "    }\n",
              "\n",
              "    [theme=dark] .colab-df-convert:hover {\n",
              "      background-color: #434B5C;\n",
              "      box-shadow: 0px 1px 3px 1px rgba(0, 0, 0, 0.15);\n",
              "      filter: drop-shadow(0px 1px 2px rgba(0, 0, 0, 0.3));\n",
              "      fill: #FFFFFF;\n",
              "    }\n",
              "  </style>\n",
              "\n",
              "      <script>\n",
              "        const buttonEl =\n",
              "          document.querySelector('#df-b005a060-1a30-419a-9fd9-63a6105d6a01 button.colab-df-convert');\n",
              "        buttonEl.style.display =\n",
              "          google.colab.kernel.accessAllowed ? 'block' : 'none';\n",
              "\n",
              "        async function convertToInteractive(key) {\n",
              "          const element = document.querySelector('#df-b005a060-1a30-419a-9fd9-63a6105d6a01');\n",
              "          const dataTable =\n",
              "            await google.colab.kernel.invokeFunction('convertToInteractive',\n",
              "                                                     [key], {});\n",
              "          if (!dataTable) return;\n",
              "\n",
              "          const docLinkHtml = 'Like what you see? Visit the ' +\n",
              "            '<a target=\"_blank\" href=https://colab.research.google.com/notebooks/data_table.ipynb>data table notebook</a>'\n",
              "            + ' to learn more about interactive tables.';\n",
              "          element.innerHTML = '';\n",
              "          dataTable['output_type'] = 'display_data';\n",
              "          await google.colab.output.renderOutput(dataTable, element);\n",
              "          const docLink = document.createElement('div');\n",
              "          docLink.innerHTML = docLinkHtml;\n",
              "          element.appendChild(docLink);\n",
              "        }\n",
              "      </script>\n",
              "    </div>\n",
              "  </div>\n",
              "  "
            ]
          },
          "metadata": {},
          "execution_count": 32
        }
      ]
    },
    {
      "cell_type": "code",
      "source": [
        "# change column names\n",
        "df.rename(columns={'col1':'apples', 'col2':'oranges'})"
      ],
      "metadata": {
        "colab": {
          "base_uri": "https://localhost:8080/",
          "height": 143
        },
        "id": "zsb8xgGGPai0",
        "outputId": "a8d1c00e-9ae7-4a00-bb00-33d5796fe485"
      },
      "execution_count": 33,
      "outputs": [
        {
          "output_type": "execute_result",
          "data": {
            "text/plain": [
              "   apples  oranges\n",
              "0       0        3\n",
              "1       1        4\n",
              "2       2        5"
            ],
            "text/html": [
              "\n",
              "  <div id=\"df-01f0d89a-a0fe-484d-936c-fe820b77c55c\">\n",
              "    <div class=\"colab-df-container\">\n",
              "      <div>\n",
              "<style scoped>\n",
              "    .dataframe tbody tr th:only-of-type {\n",
              "        vertical-align: middle;\n",
              "    }\n",
              "\n",
              "    .dataframe tbody tr th {\n",
              "        vertical-align: top;\n",
              "    }\n",
              "\n",
              "    .dataframe thead th {\n",
              "        text-align: right;\n",
              "    }\n",
              "</style>\n",
              "<table border=\"1\" class=\"dataframe\">\n",
              "  <thead>\n",
              "    <tr style=\"text-align: right;\">\n",
              "      <th></th>\n",
              "      <th>apples</th>\n",
              "      <th>oranges</th>\n",
              "    </tr>\n",
              "  </thead>\n",
              "  <tbody>\n",
              "    <tr>\n",
              "      <th>0</th>\n",
              "      <td>0</td>\n",
              "      <td>3</td>\n",
              "    </tr>\n",
              "    <tr>\n",
              "      <th>1</th>\n",
              "      <td>1</td>\n",
              "      <td>4</td>\n",
              "    </tr>\n",
              "    <tr>\n",
              "      <th>2</th>\n",
              "      <td>2</td>\n",
              "      <td>5</td>\n",
              "    </tr>\n",
              "  </tbody>\n",
              "</table>\n",
              "</div>\n",
              "      <button class=\"colab-df-convert\" onclick=\"convertToInteractive('df-01f0d89a-a0fe-484d-936c-fe820b77c55c')\"\n",
              "              title=\"Convert this dataframe to an interactive table.\"\n",
              "              style=\"display:none;\">\n",
              "        \n",
              "  <svg xmlns=\"http://www.w3.org/2000/svg\" height=\"24px\"viewBox=\"0 0 24 24\"\n",
              "       width=\"24px\">\n",
              "    <path d=\"M0 0h24v24H0V0z\" fill=\"none\"/>\n",
              "    <path d=\"M18.56 5.44l.94 2.06.94-2.06 2.06-.94-2.06-.94-.94-2.06-.94 2.06-2.06.94zm-11 1L8.5 8.5l.94-2.06 2.06-.94-2.06-.94L8.5 2.5l-.94 2.06-2.06.94zm10 10l.94 2.06.94-2.06 2.06-.94-2.06-.94-.94-2.06-.94 2.06-2.06.94z\"/><path d=\"M17.41 7.96l-1.37-1.37c-.4-.4-.92-.59-1.43-.59-.52 0-1.04.2-1.43.59L10.3 9.45l-7.72 7.72c-.78.78-.78 2.05 0 2.83L4 21.41c.39.39.9.59 1.41.59.51 0 1.02-.2 1.41-.59l7.78-7.78 2.81-2.81c.8-.78.8-2.07 0-2.86zM5.41 20L4 18.59l7.72-7.72 1.47 1.35L5.41 20z\"/>\n",
              "  </svg>\n",
              "      </button>\n",
              "      \n",
              "  <style>\n",
              "    .colab-df-container {\n",
              "      display:flex;\n",
              "      flex-wrap:wrap;\n",
              "      gap: 12px;\n",
              "    }\n",
              "\n",
              "    .colab-df-convert {\n",
              "      background-color: #E8F0FE;\n",
              "      border: none;\n",
              "      border-radius: 50%;\n",
              "      cursor: pointer;\n",
              "      display: none;\n",
              "      fill: #1967D2;\n",
              "      height: 32px;\n",
              "      padding: 0 0 0 0;\n",
              "      width: 32px;\n",
              "    }\n",
              "\n",
              "    .colab-df-convert:hover {\n",
              "      background-color: #E2EBFA;\n",
              "      box-shadow: 0px 1px 2px rgba(60, 64, 67, 0.3), 0px 1px 3px 1px rgba(60, 64, 67, 0.15);\n",
              "      fill: #174EA6;\n",
              "    }\n",
              "\n",
              "    [theme=dark] .colab-df-convert {\n",
              "      background-color: #3B4455;\n",
              "      fill: #D2E3FC;\n",
              "    }\n",
              "\n",
              "    [theme=dark] .colab-df-convert:hover {\n",
              "      background-color: #434B5C;\n",
              "      box-shadow: 0px 1px 3px 1px rgba(0, 0, 0, 0.15);\n",
              "      filter: drop-shadow(0px 1px 2px rgba(0, 0, 0, 0.3));\n",
              "      fill: #FFFFFF;\n",
              "    }\n",
              "  </style>\n",
              "\n",
              "      <script>\n",
              "        const buttonEl =\n",
              "          document.querySelector('#df-01f0d89a-a0fe-484d-936c-fe820b77c55c button.colab-df-convert');\n",
              "        buttonEl.style.display =\n",
              "          google.colab.kernel.accessAllowed ? 'block' : 'none';\n",
              "\n",
              "        async function convertToInteractive(key) {\n",
              "          const element = document.querySelector('#df-01f0d89a-a0fe-484d-936c-fe820b77c55c');\n",
              "          const dataTable =\n",
              "            await google.colab.kernel.invokeFunction('convertToInteractive',\n",
              "                                                     [key], {});\n",
              "          if (!dataTable) return;\n",
              "\n",
              "          const docLinkHtml = 'Like what you see? Visit the ' +\n",
              "            '<a target=\"_blank\" href=https://colab.research.google.com/notebooks/data_table.ipynb>data table notebook</a>'\n",
              "            + ' to learn more about interactive tables.';\n",
              "          element.innerHTML = '';\n",
              "          dataTable['output_type'] = 'display_data';\n",
              "          await google.colab.output.renderOutput(dataTable, element);\n",
              "          const docLink = document.createElement('div');\n",
              "          docLink.innerHTML = docLinkHtml;\n",
              "          element.appendChild(docLink);\n",
              "        }\n",
              "      </script>\n",
              "    </div>\n",
              "  </div>\n",
              "  "
            ]
          },
          "metadata": {},
          "execution_count": 33
        }
      ]
    },
    {
      "cell_type": "markdown",
      "source": [
        "*8.Functions : If you use a snippet of code multiple times, it is best practice to put that code into a function instead of copying and pasting it. For example, if you wanted several of the same plots with different data, you could create a function that returns that style of plot for arbitrary (though with correct dimension and type) data. In Python, indentation is very important. If done incorrectly, your code will not run and instead will give an error. When defining a function, all code after the ':' must be indented properly. \n",
        "```\n",
        "def function_name(arguments):\n",
        "    \"\"\"\n",
        "    Header comment: brief description of what this function does\n",
        "\n",
        "    Args:\n",
        "        obj: input for this function\n",
        "    Returns:\n",
        "        out: the output of this function\n",
        "    \"\"\"\n",
        "\n",
        "    some code\n",
        "\n",
        "    return out \n",
        "```\n",
        "Function names should start with a lower case letter (they cannot start with a number), and can be in camelCase or snake_case. If your function returns a variable, you use 'return' to specify that variable. A function doesn't always have to return something though. For example, you could have a function that creates a plot and then saves it in the current directory.*"
      ],
      "metadata": {
        "id": "d_EFdXHuOu_m"
      }
    },
    {
      "cell_type": "code",
      "source": [
        "# function for a sum of 2 numbers\n",
        "def sum_x_y(x,y):\n",
        "    out = x+y\n",
        "    return out\n",
        "\n",
        "sum_x_y(4,6)"
      ],
      "metadata": {
        "colab": {
          "base_uri": "https://localhost:8080/"
        },
        "id": "s4cxtKeaPrUj",
        "outputId": "5c6a117d-4940-4d13-f64b-beaccc355687"
      },
      "execution_count": 34,
      "outputs": [
        {
          "output_type": "execute_result",
          "data": {
            "text/plain": [
              "10"
            ]
          },
          "metadata": {},
          "execution_count": 34
        }
      ]
    },
    {
      "cell_type": "code",
      "source": [
        "#Function that inputs an integers and returns the negative\n",
        "def find_neg(x):\n",
        "    if x < 0:\n",
        "        print(\"Integer is negative\")\n",
        "        return x\n",
        "    else:\n",
        "        print(\"enter another integer\")\n",
        "\n",
        "# Test your function with input x\n",
        "x = -4\n",
        "find_neg(x)"
      ],
      "metadata": {
        "colab": {
          "base_uri": "https://localhost:8080/"
        },
        "id": "aICz2wFIuPE4",
        "outputId": "350a0d6a-2cf4-462d-8c02-ea83c5323d03"
      },
      "execution_count": null,
      "outputs": [
        {
          "output_type": "stream",
          "name": "stdout",
          "text": [
            "Integer is negative\n"
          ]
        },
        {
          "output_type": "execute_result",
          "data": {
            "text/plain": [
              "-4"
            ]
          },
          "metadata": {},
          "execution_count": 40
        }
      ]
    },
    {
      "cell_type": "code",
      "source": [
        "# function for getting the maximum number from a list\n",
        "def get_max(x):\n",
        "    current_max = x[0]\n",
        "    for i in x[1:]:\n",
        "        if i > current_max:\n",
        "            current_max = i\n",
        "    return current_max\n",
        "\n",
        "\n",
        "get_max(np.random.choice(400,100))  #np.random.choice(400,100) will randomly choose 100 integers between 0 and 400\n"
      ],
      "metadata": {
        "colab": {
          "base_uri": "https://localhost:8080/"
        },
        "id": "-Xix93soPeIB",
        "outputId": "be47f590-7719-42e1-ba3d-14c33c4f15ab"
      },
      "execution_count": 35,
      "outputs": [
        {
          "output_type": "execute_result",
          "data": {
            "text/plain": [
              "396"
            ]
          },
          "metadata": {},
          "execution_count": 35
        }
      ]
    },
    {
      "cell_type": "code",
      "source": [
        "# function that inputs a list of integers and returns the minimum value\n",
        "def min_int(lst):\n",
        "    current_min = lst[0]\n",
        "    for i in lst[1:]:\n",
        "        if i < current_min:\n",
        "            current_min = i\n",
        "    return current_min\n",
        "\n",
        "# Test your function with input lst\n",
        "lst = [-3, 0, 2, 100, -1, 2]\n",
        "min_int(lst)"
      ],
      "metadata": {
        "colab": {
          "base_uri": "https://localhost:8080/"
        },
        "id": "xsTlLTCxuolJ",
        "outputId": "e9b8e66a-32bd-47a0-9e09-3776228c7590"
      },
      "execution_count": 41,
      "outputs": [
        {
          "output_type": "execute_result",
          "data": {
            "text/plain": [
              "-3"
            ]
          },
          "metadata": {},
          "execution_count": 41
        }
      ]
    },
    {
      "cell_type": "markdown",
      "source": [
        "*List of common [gotchas](https://docs.python-guide.org/writing/gotchas/) in Python*"
      ],
      "metadata": {
        "id": "n62E60QIQpfx"
      }
    },
    {
      "cell_type": "markdown",
      "source": [
        "9.Lambda Functions: \n",
        "There are also know as anonymous functions because they are unnamed. This function can have any number of arguments but only one expression. Lambda functions, unlike defined functions, always return a variable. The format of a lambda function is\n",
        "```\n",
        "lambda arguments: expression\n",
        "``` \n",
        "They can look similar to a mathematical expression for evauating a function.\n",
        "For example:\n",
        "```\n",
        "(lambda x: x**2)(3)\n",
        "```\n",
        "Is the same as mathmatically writing\n",
        "f(x)=x2  an then evauluating the function  f  at  x=3 ,\n",
        "f(3)=9"
      ],
      "metadata": {
        "id": "fA-niI1mQ4uO"
      }
    },
    {
      "cell_type": "code",
      "source": [
        "(lambda x:x**2)(3)"
      ],
      "metadata": {
        "colab": {
          "base_uri": "https://localhost:8080/"
        },
        "id": "4DdafpnsQjR-",
        "outputId": "21558155-5dda-4304-f122-faca6e0ca421"
      },
      "execution_count": 36,
      "outputs": [
        {
          "output_type": "execute_result",
          "data": {
            "text/plain": [
              "9"
            ]
          },
          "metadata": {},
          "execution_count": 36
        }
      ]
    },
    {
      "cell_type": "code",
      "source": [
        "# Another way to use a lambda function is to store it in a variable\n",
        "\n",
        "f = lambda x: np.sin(x)\n",
        "x = np.linspace(-np.pi, np.pi, 100)\n",
        "y = [f(i) for i in x]\n",
        "print(x)\n"
      ],
      "metadata": {
        "colab": {
          "base_uri": "https://localhost:8080/"
        },
        "id": "2EqX2zAUS_IS",
        "outputId": "aac6ca45-f488-4e5a-bf90-7960b3525288"
      },
      "execution_count": 37,
      "outputs": [
        {
          "output_type": "stream",
          "name": "stdout",
          "text": [
            "[-3.14159265 -3.07812614 -3.01465962 -2.9511931  -2.88772658 -2.82426006\n",
            " -2.76079354 -2.69732703 -2.63386051 -2.57039399 -2.50692747 -2.44346095\n",
            " -2.37999443 -2.31652792 -2.2530614  -2.18959488 -2.12612836 -2.06266184\n",
            " -1.99919533 -1.93572881 -1.87226229 -1.80879577 -1.74532925 -1.68186273\n",
            " -1.61839622 -1.5549297  -1.49146318 -1.42799666 -1.36453014 -1.30106362\n",
            " -1.23759711 -1.17413059 -1.11066407 -1.04719755 -0.98373103 -0.92026451\n",
            " -0.856798   -0.79333148 -0.72986496 -0.66639844 -0.60293192 -0.53946541\n",
            " -0.47599889 -0.41253237 -0.34906585 -0.28559933 -0.22213281 -0.1586663\n",
            " -0.09519978 -0.03173326  0.03173326  0.09519978  0.1586663   0.22213281\n",
            "  0.28559933  0.34906585  0.41253237  0.47599889  0.53946541  0.60293192\n",
            "  0.66639844  0.72986496  0.79333148  0.856798    0.92026451  0.98373103\n",
            "  1.04719755  1.11066407  1.17413059  1.23759711  1.30106362  1.36453014\n",
            "  1.42799666  1.49146318  1.5549297   1.61839622  1.68186273  1.74532925\n",
            "  1.80879577  1.87226229  1.93572881  1.99919533  2.06266184  2.12612836\n",
            "  2.18959488  2.2530614   2.31652792  2.37999443  2.44346095  2.50692747\n",
            "  2.57039399  2.63386051  2.69732703  2.76079354  2.82426006  2.88772658\n",
            "  2.9511931   3.01465962  3.07812614  3.14159265]\n"
          ]
        }
      ]
    },
    {
      "cell_type": "code",
      "source": [
        "print(y)"
      ],
      "metadata": {
        "colab": {
          "base_uri": "https://localhost:8080/"
        },
        "id": "r79UEEEETi-1",
        "outputId": "774b5526-2c9a-40a5-cabd-62173efb8012"
      },
      "execution_count": 38,
      "outputs": [
        {
          "output_type": "stream",
          "name": "stdout",
          "text": [
            "[-1.2246467991473532e-16, -0.06342391965656484, -0.12659245357374938, -0.1892512443604105, -0.2511479871810793, -0.31203344569848734, -0.3716624556603276, -0.4297949120891718, -0.4861967361004687, -0.5406408174555978, -0.5929079290546404, -0.6427876096865395, -0.6900790114821119, -0.7345917086575334, -0.776146464291757, -0.8145759520503358, -0.8497254299495143, -0.8814533634475821, -0.9096319953545184, -0.9341478602651068, -0.9549022414440739, -0.9718115683235417, -0.984807753012208, -0.9938384644612541, -0.998867339183008, -0.9998741276738751, -0.9968547759519423, -0.9898214418809327, -0.9788024462147787, -0.963842158559942, -0.9450008187146685, -0.9223542941045814, -0.8959937742913359, -0.8660254037844385, -0.8325698546347713, -0.795761840530832, -0.7557495743542583, -0.7126941713788627, -0.6667690005162916, -0.6181589862206051, -0.5670598638627707, -0.5136773915734062, -0.4582265217274104, -0.4009305354066135, -0.34202014332566877, -0.2817325568414295, -0.2203105327865407, -0.15800139597334975, -0.09505604330418231, -0.03172793349806753, 0.031727933498067976, 0.09505604330418276, 0.1580013959733502, 0.2203105327865407, 0.28173255684142995, 0.34202014332566877, 0.4009305354066139, 0.4582265217274104, 0.5136773915734065, 0.5670598638627707, 0.6181589862206054, 0.6667690005162916, 0.712694171378863, 0.7557495743542583, 0.7957618405308322, 0.8325698546347713, 0.8660254037844389, 0.895993774291336, 0.9223542941045815, 0.9450008187146685, 0.9638421585599422, 0.9788024462147787, 0.9898214418809327, 0.9968547759519423, 0.9998741276738751, 0.998867339183008, 0.9938384644612541, 0.9848077530122081, 0.9718115683235415, 0.9549022414440739, 0.9341478602651068, 0.9096319953545181, 0.8814533634475819, 0.8497254299495143, 0.8145759520503358, 0.7761464642917565, 0.7345917086575331, 0.6900790114821119, 0.6427876096865395, 0.5929079290546401, 0.5406408174555974, 0.4861967361004687, 0.4297949120891718, 0.37166245566032713, 0.31203344569848696, 0.2511479871810793, 0.18925124436040963, 0.12659245357374893, 0.0634239196565644, 1.2246467991473532e-16]\n"
          ]
        }
      ]
    },
    {
      "cell_type": "code",
      "source": [
        "plt.plot(x,y)\n",
        "plt.show"
      ],
      "metadata": {
        "colab": {
          "base_uri": "https://localhost:8080/",
          "height": 282
        },
        "id": "n3ya_-xATlrH",
        "outputId": "d64511c5-ea18-41da-faf4-a9e02ebe59b1"
      },
      "execution_count": 39,
      "outputs": [
        {
          "output_type": "execute_result",
          "data": {
            "text/plain": [
              "<function matplotlib.pyplot.show(*args, **kw)>"
            ]
          },
          "metadata": {},
          "execution_count": 39
        },
        {
          "output_type": "display_data",
          "data": {
            "text/plain": [
              "<Figure size 432x288 with 1 Axes>"
            ],
            "image/png": "[encoded data removed]"
          },
          "metadata": {
            "needs_background": "light"
          }
        }
      ]
    },
    {
      "cell_type": "markdown",
      "source": [
        "Write a function that take in four arguments: lst1, lst2, str1, str2, and returns a pandas DataFrame that has the first column labeled str1 and the second column labaled str2, that have values lst1 and lst2 scaled to be between 0 and 1. For example:\n",
        "\n",
        "\n",
        "```\n",
        "lst1 = [1, 2, 3]\n",
        "lst2 = [2, 4, 5]\n",
        "str1 = 'one'\n",
        "str2 = 'two'\n",
        "\n",
        "my_function(lst1, lst2, str1, str2)\n",
        "should return a DataFrame that looks like:\n",
        "\n",
        "     one\ttwo\n",
        "0\t 0\t 0\n",
        "1\t.5\t .666\n",
        "2\t 1\t 1\n",
        "\n",
        "```\n",
        "\n"
      ],
      "metadata": {
        "id": "1Ag-dktru3j0"
      }
    },
    {
      "cell_type": "code",
      "source": [
        "import pandas as pd\n",
        "import numpy as np\n",
        "import sklearn\n",
        "from sklearn import preprocessing\n",
        "\n",
        "def my_function(lst1, lst2, str1, str2):\n",
        "    df = pd.DataFrame({str1:lst1, str2:lst2})\n",
        "    final_df = scaled_df(df)\n",
        "    final_df.columns = [str1,str2]\n",
        "    return final_df\n",
        "    \n",
        "def scaled_df(df):\n",
        "    for i in df[0:]:  \n",
        "        float_array = df.values.astype(float)  #convert dataframe into float\n",
        "        min_max_scaler = preprocessing.MinMaxScaler()   #create a min max procesing object\n",
        "        scaled_array = min_max_scaler.fit_transform(float_array)\n",
        "        df_normalized = pd.DataFrame(scaled_array) #convert scaled array to a dataframe\n",
        "    return df_normalized"
      ],
      "metadata": {
        "id": "7r6zGewQZ8JR"
      },
      "execution_count": 42,
      "outputs": []
    },
    {
      "cell_type": "code",
      "source": [
        "# test the function \n",
        "\n",
        "lst1 = [1, 2, 3]\n",
        "lst2 = [2, 4, 5]\n",
        "str1 = 'one'\n",
        "str2 = 'two'\n",
        "my_function(lst1, lst2, str1, str2)"
      ],
      "metadata": {
        "colab": {
          "base_uri": "https://localhost:8080/",
          "height": 143
        },
        "id": "7nMT3XpGTshn",
        "outputId": "61ee0de8-4d8d-4a6f-8f26-f7d6a11b184f"
      },
      "execution_count": 43,
      "outputs": [
        {
          "output_type": "execute_result",
          "data": {
            "text/plain": [
              "   one       two\n",
              "0  0.0  0.000000\n",
              "1  0.5  0.666667\n",
              "2  1.0  1.000000"
            ],
            "text/html": [
              "\n",
              "  <div id=\"df-de6eb7da-10b0-4470-bd64-48e01081a216\">\n",
              "    <div class=\"colab-df-container\">\n",
              "      <div>\n",
              "<style scoped>\n",
              "    .dataframe tbody tr th:only-of-type {\n",
              "        vertical-align: middle;\n",
              "    }\n",
              "\n",
              "    .dataframe tbody tr th {\n",
              "        vertical-align: top;\n",
              "    }\n",
              "\n",
              "    .dataframe thead th {\n",
              "        text-align: right;\n",
              "    }\n",
              "</style>\n",
              "<table border=\"1\" class=\"dataframe\">\n",
              "  <thead>\n",
              "    <tr style=\"text-align: right;\">\n",
              "      <th></th>\n",
              "      <th>one</th>\n",
              "      <th>two</th>\n",
              "    </tr>\n",
              "  </thead>\n",
              "  <tbody>\n",
              "    <tr>\n",
              "      <th>0</th>\n",
              "      <td>0.0</td>\n",
              "      <td>0.000000</td>\n",
              "    </tr>\n",
              "    <tr>\n",
              "      <th>1</th>\n",
              "      <td>0.5</td>\n",
              "      <td>0.666667</td>\n",
              "    </tr>\n",
              "    <tr>\n",
              "      <th>2</th>\n",
              "      <td>1.0</td>\n",
              "      <td>1.000000</td>\n",
              "    </tr>\n",
              "  </tbody>\n",
              "</table>\n",
              "</div>\n",
              "      <button class=\"colab-df-convert\" onclick=\"convertToInteractive('df-de6eb7da-10b0-4470-bd64-48e01081a216')\"\n",
              "              title=\"Convert this dataframe to an interactive table.\"\n",
              "              style=\"display:none;\">\n",
              "        \n",
              "  <svg xmlns=\"http://www.w3.org/2000/svg\" height=\"24px\"viewBox=\"0 0 24 24\"\n",
              "       width=\"24px\">\n",
              "    <path d=\"M0 0h24v24H0V0z\" fill=\"none\"/>\n",
              "    <path d=\"M18.56 5.44l.94 2.06.94-2.06 2.06-.94-2.06-.94-.94-2.06-.94 2.06-2.06.94zm-11 1L8.5 8.5l.94-2.06 2.06-.94-2.06-.94L8.5 2.5l-.94 2.06-2.06.94zm10 10l.94 2.06.94-2.06 2.06-.94-2.06-.94-.94-2.06-.94 2.06-2.06.94z\"/><path d=\"M17.41 7.96l-1.37-1.37c-.4-.4-.92-.59-1.43-.59-.52 0-1.04.2-1.43.59L10.3 9.45l-7.72 7.72c-.78.78-.78 2.05 0 2.83L4 21.41c.39.39.9.59 1.41.59.51 0 1.02-.2 1.41-.59l7.78-7.78 2.81-2.81c.8-.78.8-2.07 0-2.86zM5.41 20L4 18.59l7.72-7.72 1.47 1.35L5.41 20z\"/>\n",
              "  </svg>\n",
              "      </button>\n",
              "      \n",
              "  <style>\n",
              "    .colab-df-container {\n",
              "      display:flex;\n",
              "      flex-wrap:wrap;\n",
              "      gap: 12px;\n",
              "    }\n",
              "\n",
              "    .colab-df-convert {\n",
              "      background-color: #E8F0FE;\n",
              "      border: none;\n",
              "      border-radius: 50%;\n",
              "      cursor: pointer;\n",
              "      display: none;\n",
              "      fill: #1967D2;\n",
              "      height: 32px;\n",
              "      padding: 0 0 0 0;\n",
              "      width: 32px;\n",
              "    }\n",
              "\n",
              "    .colab-df-convert:hover {\n",
              "      background-color: #E2EBFA;\n",
              "      box-shadow: 0px 1px 2px rgba(60, 64, 67, 0.3), 0px 1px 3px 1px rgba(60, 64, 67, 0.15);\n",
              "      fill: #174EA6;\n",
              "    }\n",
              "\n",
              "    [theme=dark] .colab-df-convert {\n",
              "      background-color: #3B4455;\n",
              "      fill: #D2E3FC;\n",
              "    }\n",
              "\n",
              "    [theme=dark] .colab-df-convert:hover {\n",
              "      background-color: #434B5C;\n",
              "      box-shadow: 0px 1px 3px 1px rgba(0, 0, 0, 0.15);\n",
              "      filter: drop-shadow(0px 1px 2px rgba(0, 0, 0, 0.3));\n",
              "      fill: #FFFFFF;\n",
              "    }\n",
              "  </style>\n",
              "\n",
              "      <script>\n",
              "        const buttonEl =\n",
              "          document.querySelector('#df-de6eb7da-10b0-4470-bd64-48e01081a216 button.colab-df-convert');\n",
              "        buttonEl.style.display =\n",
              "          google.colab.kernel.accessAllowed ? 'block' : 'none';\n",
              "\n",
              "        async function convertToInteractive(key) {\n",
              "          const element = document.querySelector('#df-de6eb7da-10b0-4470-bd64-48e01081a216');\n",
              "          const dataTable =\n",
              "            await google.colab.kernel.invokeFunction('convertToInteractive',\n",
              "                                                     [key], {});\n",
              "          if (!dataTable) return;\n",
              "\n",
              "          const docLinkHtml = 'Like what you see? Visit the ' +\n",
              "            '<a target=\"_blank\" href=https://colab.research.google.com/notebooks/data_table.ipynb>data table notebook</a>'\n",
              "            + ' to learn more about interactive tables.';\n",
              "          element.innerHTML = '';\n",
              "          dataTable['output_type'] = 'display_data';\n",
              "          await google.colab.output.renderOutput(dataTable, element);\n",
              "          const docLink = document.createElement('div');\n",
              "          docLink.innerHTML = docLinkHtml;\n",
              "          element.appendChild(docLink);\n",
              "        }\n",
              "      </script>\n",
              "    </div>\n",
              "  </div>\n",
              "  "
            ]
          },
          "metadata": {},
          "execution_count": 43
        }
      ]
    },
    {
      "cell_type": "code",
      "source": [
        "# test with other imput \n",
        "\n",
        "lst1 = np.random.randint(-234, 938, 100)\n",
        "lst2 = np.random.randint(-522, 123, 100)\n",
        "str1 = 'one'\n",
        "str2 = 'alpha'\n",
        "my_function(lst1, lst2, str1, str2)"
      ],
      "metadata": {
        "colab": {
          "base_uri": "https://localhost:8080/",
          "height": 424
        },
        "id": "gmAEryoivQyt",
        "outputId": "edf4073e-3d40-4e9e-8fe1-dcee896699e6"
      },
      "execution_count": 44,
      "outputs": [
        {
          "output_type": "execute_result",
          "data": {
            "text/plain": [
              "         one     alpha\n",
              "0   0.282140  0.664516\n",
              "1   0.806730  0.317742\n",
              "2   0.579810  0.656452\n",
              "3   0.193270  0.098387\n",
              "4   0.321829  0.919355\n",
              "..       ...       ...\n",
              "95  0.622951  0.575806\n",
              "96  0.870578  0.796774\n",
              "97  0.040552  0.770968\n",
              "98  0.878343  0.579032\n",
              "99  0.615186  0.798387\n",
              "\n",
              "[100 rows x 2 columns]"
            ],
            "text/html": [
              "\n",
              "  <div id=\"df-18e658d0-60b7-4a38-86eb-1f411a74486e\">\n",
              "    <div class=\"colab-df-container\">\n",
              "      <div>\n",
              "<style scoped>\n",
              "    .dataframe tbody tr th:only-of-type {\n",
              "        vertical-align: middle;\n",
              "    }\n",
              "\n",
              "    .dataframe tbody tr th {\n",
              "        vertical-align: top;\n",
              "    }\n",
              "\n",
              "    .dataframe thead th {\n",
              "        text-align: right;\n",
              "    }\n",
              "</style>\n",
              "<table border=\"1\" class=\"dataframe\">\n",
              "  <thead>\n",
              "    <tr style=\"text-align: right;\">\n",
              "      <th></th>\n",
              "      <th>one</th>\n",
              "      <th>alpha</th>\n",
              "    </tr>\n",
              "  </thead>\n",
              "  <tbody>\n",
              "    <tr>\n",
              "      <th>0</th>\n",
              "      <td>0.282140</td>\n",
              "      <td>0.664516</td>\n",
              "    </tr>\n",
              "    <tr>\n",
              "      <th>1</th>\n",
              "      <td>0.806730</td>\n",
              "      <td>0.317742</td>\n",
              "    </tr>\n",
              "    <tr>\n",
              "      <th>2</th>\n",
              "      <td>0.579810</td>\n",
              "      <td>0.656452</td>\n",
              "    </tr>\n",
              "    <tr>\n",
              "      <th>3</th>\n",
              "      <td>0.193270</td>\n",
              "      <td>0.098387</td>\n",
              "    </tr>\n",
              "    <tr>\n",
              "      <th>4</th>\n",
              "      <td>0.321829</td>\n",
              "      <td>0.919355</td>\n",
              "    </tr>\n",
              "    <tr>\n",
              "      <th>...</th>\n",
              "      <td>...</td>\n",
              "      <td>...</td>\n",
              "    </tr>\n",
              "    <tr>\n",
              "      <th>95</th>\n",
              "      <td>0.622951</td>\n",
              "      <td>0.575806</td>\n",
              "    </tr>\n",
              "    <tr>\n",
              "      <th>96</th>\n",
              "      <td>0.870578</td>\n",
              "      <td>0.796774</td>\n",
              "    </tr>\n",
              "    <tr>\n",
              "      <th>97</th>\n",
              "      <td>0.040552</td>\n",
              "      <td>0.770968</td>\n",
              "    </tr>\n",
              "    <tr>\n",
              "      <th>98</th>\n",
              "      <td>0.878343</td>\n",
              "      <td>0.579032</td>\n",
              "    </tr>\n",
              "    <tr>\n",
              "      <th>99</th>\n",
              "      <td>0.615186</td>\n",
              "      <td>0.798387</td>\n",
              "    </tr>\n",
              "  </tbody>\n",
              "</table>\n",
              "<p>100 rows × 2 columns</p>\n",
              "</div>\n",
              "      <button class=\"colab-df-convert\" onclick=\"convertToInteractive('df-18e658d0-60b7-4a38-86eb-1f411a74486e')\"\n",
              "              title=\"Convert this dataframe to an interactive table.\"\n",
              "              style=\"display:none;\">\n",
              "        \n",
              "  <svg xmlns=\"http://www.w3.org/2000/svg\" height=\"24px\"viewBox=\"0 0 24 24\"\n",
              "       width=\"24px\">\n",
              "    <path d=\"M0 0h24v24H0V0z\" fill=\"none\"/>\n",
              "    <path d=\"M18.56 5.44l.94 2.06.94-2.06 2.06-.94-2.06-.94-.94-2.06-.94 2.06-2.06.94zm-11 1L8.5 8.5l.94-2.06 2.06-.94-2.06-.94L8.5 2.5l-.94 2.06-2.06.94zm10 10l.94 2.06.94-2.06 2.06-.94-2.06-.94-.94-2.06-.94 2.06-2.06.94z\"/><path d=\"M17.41 7.96l-1.37-1.37c-.4-.4-.92-.59-1.43-.59-.52 0-1.04.2-1.43.59L10.3 9.45l-7.72 7.72c-.78.78-.78 2.05 0 2.83L4 21.41c.39.39.9.59 1.41.59.51 0 1.02-.2 1.41-.59l7.78-7.78 2.81-2.81c.8-.78.8-2.07 0-2.86zM5.41 20L4 18.59l7.72-7.72 1.47 1.35L5.41 20z\"/>\n",
              "  </svg>\n",
              "      </button>\n",
              "      \n",
              "  <style>\n",
              "    .colab-df-container {\n",
              "      display:flex;\n",
              "      flex-wrap:wrap;\n",
              "      gap: 12px;\n",
              "    }\n",
              "\n",
              "    .colab-df-convert {\n",
              "      background-color: #E8F0FE;\n",
              "      border: none;\n",
              "      border-radius: 50%;\n",
              "      cursor: pointer;\n",
              "      display: none;\n",
              "      fill: #1967D2;\n",
              "      height: 32px;\n",
              "      padding: 0 0 0 0;\n",
              "      width: 32px;\n",
              "    }\n",
              "\n",
              "    .colab-df-convert:hover {\n",
              "      background-color: #E2EBFA;\n",
              "      box-shadow: 0px 1px 2px rgba(60, 64, 67, 0.3), 0px 1px 3px 1px rgba(60, 64, 67, 0.15);\n",
              "      fill: #174EA6;\n",
              "    }\n",
              "\n",
              "    [theme=dark] .colab-df-convert {\n",
              "      background-color: #3B4455;\n",
              "      fill: #D2E3FC;\n",
              "    }\n",
              "\n",
              "    [theme=dark] .colab-df-convert:hover {\n",
              "      background-color: #434B5C;\n",
              "      box-shadow: 0px 1px 3px 1px rgba(0, 0, 0, 0.15);\n",
              "      filter: drop-shadow(0px 1px 2px rgba(0, 0, 0, 0.3));\n",
              "      fill: #FFFFFF;\n",
              "    }\n",
              "  </style>\n",
              "\n",
              "      <script>\n",
              "        const buttonEl =\n",
              "          document.querySelector('#df-18e658d0-60b7-4a38-86eb-1f411a74486e button.colab-df-convert');\n",
              "        buttonEl.style.display =\n",
              "          google.colab.kernel.accessAllowed ? 'block' : 'none';\n",
              "\n",
              "        async function convertToInteractive(key) {\n",
              "          const element = document.querySelector('#df-18e658d0-60b7-4a38-86eb-1f411a74486e');\n",
              "          const dataTable =\n",
              "            await google.colab.kernel.invokeFunction('convertToInteractive',\n",
              "                                                     [key], {});\n",
              "          if (!dataTable) return;\n",
              "\n",
              "          const docLinkHtml = 'Like what you see? Visit the ' +\n",
              "            '<a target=\"_blank\" href=https://colab.research.google.com/notebooks/data_table.ipynb>data table notebook</a>'\n",
              "            + ' to learn more about interactive tables.';\n",
              "          element.innerHTML = '';\n",
              "          dataTable['output_type'] = 'display_data';\n",
              "          await google.colab.output.renderOutput(dataTable, element);\n",
              "          const docLink = document.createElement('div');\n",
              "          docLink.innerHTML = docLinkHtml;\n",
              "          element.appendChild(docLink);\n",
              "        }\n",
              "      </script>\n",
              "    </div>\n",
              "  </div>\n",
              "  "
            ]
          },
          "metadata": {},
          "execution_count": 44
        }
      ]
    },
    {
      "cell_type": "code",
      "source": [
        "#using 'HELP' to get help on functions\n",
        "help(np.sort)"
      ],
      "metadata": {
        "colab": {
          "base_uri": "https://localhost:8080/"
        },
        "id": "DyIZ0Ntnv3ss",
        "outputId": "965b3ce8-605f-4367-ac42-8a09380915f8"
      },
      "execution_count": 47,
      "outputs": [
        {
          "output_type": "stream",
          "name": "stdout",
          "text": [
            "Help on function sort in module numpy:\n",
            "\n",
            "sort(a, axis=-1, kind=None, order=None)\n",
            "    Return a sorted copy of an array.\n",
            "    \n",
            "    Parameters\n",
            "    ----------\n",
            "    a : array_like\n",
            "        Array to be sorted.\n",
            "    axis : int or None, optional\n",
            "        Axis along which to sort. If None, the array is flattened before\n",
            "        sorting. The default is -1, which sorts along the last axis.\n",
            "    kind : {'quicksort', 'mergesort', 'heapsort', 'stable'}, optional\n",
            "        Sorting algorithm. The default is 'quicksort'. Note that both 'stable'\n",
            "        and 'mergesort' use timsort or radix sort under the covers and, in general,\n",
            "        the actual implementation will vary with data type. The 'mergesort' option\n",
            "        is retained for backwards compatibility.\n",
            "    \n",
            "        .. versionchanged:: 1.15.0.\n",
            "           The 'stable' option was added.\n",
            "    \n",
            "    order : str or list of str, optional\n",
            "        When `a` is an array with fields defined, this argument specifies\n",
            "        which fields to compare first, second, etc.  A single field can\n",
            "        be specified as a string, and not all fields need be specified,\n",
            "        but unspecified fields will still be used, in the order in which\n",
            "        they come up in the dtype, to break ties.\n",
            "    \n",
            "    Returns\n",
            "    -------\n",
            "    sorted_array : ndarray\n",
            "        Array of the same type and shape as `a`.\n",
            "    \n",
            "    See Also\n",
            "    --------\n",
            "    ndarray.sort : Method to sort an array in-place.\n",
            "    argsort : Indirect sort.\n",
            "    lexsort : Indirect stable sort on multiple keys.\n",
            "    searchsorted : Find elements in a sorted array.\n",
            "    partition : Partial sort.\n",
            "    \n",
            "    Notes\n",
            "    -----\n",
            "    The various sorting algorithms are characterized by their average speed,\n",
            "    worst case performance, work space size, and whether they are stable. A\n",
            "    stable sort keeps items with the same key in the same relative\n",
            "    order. The four algorithms implemented in NumPy have the following\n",
            "    properties:\n",
            "    \n",
            "    =========== ======= ============= ============ ========\n",
            "       kind      speed   worst case    work space   stable\n",
            "    =========== ======= ============= ============ ========\n",
            "    'quicksort'    1     O(n^2)            0          no\n",
            "    'heapsort'     3     O(n*log(n))       0          no\n",
            "    'mergesort'    2     O(n*log(n))      ~n/2        yes\n",
            "    'timsort'      2     O(n*log(n))      ~n/2        yes\n",
            "    =========== ======= ============= ============ ========\n",
            "    \n",
            "    .. note:: The datatype determines which of 'mergesort' or 'timsort'\n",
            "       is actually used, even if 'mergesort' is specified. User selection\n",
            "       at a finer scale is not currently available.\n",
            "    \n",
            "    All the sort algorithms make temporary copies of the data when\n",
            "    sorting along any but the last axis.  Consequently, sorting along\n",
            "    the last axis is faster and uses less space than sorting along\n",
            "    any other axis.\n",
            "    \n",
            "    The sort order for complex numbers is lexicographic. If both the real\n",
            "    and imaginary parts are non-nan then the order is determined by the\n",
            "    real parts except when they are equal, in which case the order is\n",
            "    determined by the imaginary parts.\n",
            "    \n",
            "    Previous to numpy 1.4.0 sorting real and complex arrays containing nan\n",
            "    values led to undefined behaviour. In numpy versions >= 1.4.0 nan\n",
            "    values are sorted to the end. The extended sort order is:\n",
            "    \n",
            "      * Real: [R, nan]\n",
            "      * Complex: [R + Rj, R + nanj, nan + Rj, nan + nanj]\n",
            "    \n",
            "    where R is a non-nan real value. Complex values with the same nan\n",
            "    placements are sorted according to the non-nan part if it exists.\n",
            "    Non-nan values are sorted as before.\n",
            "    \n",
            "    .. versionadded:: 1.12.0\n",
            "    \n",
            "    quicksort has been changed to `introsort <https://en.wikipedia.org/wiki/Introsort>`_.\n",
            "    When sorting does not make enough progress it switches to\n",
            "    `heapsort <https://en.wikipedia.org/wiki/Heapsort>`_.\n",
            "    This implementation makes quicksort O(n*log(n)) in the worst case.\n",
            "    \n",
            "    'stable' automatically chooses the best stable sorting algorithm\n",
            "    for the data type being sorted.\n",
            "    It, along with 'mergesort' is currently mapped to\n",
            "    `timsort <https://en.wikipedia.org/wiki/Timsort>`_\n",
            "    or `radix sort <https://en.wikipedia.org/wiki/Radix_sort>`_\n",
            "    depending on the data type.\n",
            "    API forward compatibility currently limits the\n",
            "    ability to select the implementation and it is hardwired for the different\n",
            "    data types.\n",
            "    \n",
            "    .. versionadded:: 1.17.0\n",
            "    \n",
            "    Timsort is added for better performance on already or nearly\n",
            "    sorted data. On random data timsort is almost identical to\n",
            "    mergesort. It is now used for stable sort while quicksort is still the\n",
            "    default sort if none is chosen. For timsort details, refer to\n",
            "    `CPython listsort.txt <https://github.com/python/cpython/blob/3.7/Objects/listsort.txt>`_.\n",
            "    'mergesort' and 'stable' are mapped to radix sort for integer data types. Radix sort is an\n",
            "    O(n) sort instead of O(n log n).\n",
            "    \n",
            "    .. versionchanged:: 1.18.0\n",
            "    \n",
            "    NaT now sorts to the end of arrays for consistency with NaN.\n",
            "    \n",
            "    Examples\n",
            "    --------\n",
            "    >>> a = np.array([[1,4],[3,1]])\n",
            "    >>> np.sort(a)                # sort along the last axis\n",
            "    array([[1, 4],\n",
            "           [1, 3]])\n",
            "    >>> np.sort(a, axis=None)     # sort the flattened array\n",
            "    array([1, 1, 3, 4])\n",
            "    >>> np.sort(a, axis=0)        # sort along the first axis\n",
            "    array([[1, 1],\n",
            "           [3, 4]])\n",
            "    \n",
            "    Use the `order` keyword to specify a field to use when sorting a\n",
            "    structured array:\n",
            "    \n",
            "    >>> dtype = [('name', 'S10'), ('height', float), ('age', int)]\n",
            "    >>> values = [('Arthur', 1.8, 41), ('Lancelot', 1.9, 38),\n",
            "    ...           ('Galahad', 1.7, 38)]\n",
            "    >>> a = np.array(values, dtype=dtype)       # create a structured array\n",
            "    >>> np.sort(a, order='height')                        # doctest: +SKIP\n",
            "    array([('Galahad', 1.7, 38), ('Arthur', 1.8, 41),\n",
            "           ('Lancelot', 1.8999999999999999, 38)],\n",
            "          dtype=[('name', '|S10'), ('height', '<f8'), ('age', '<i4')])\n",
            "    \n",
            "    Sort by age, then height if ages are equal:\n",
            "    \n",
            "    >>> np.sort(a, order=['age', 'height'])               # doctest: +SKIP\n",
            "    array([('Galahad', 1.7, 38), ('Lancelot', 1.8999999999999999, 38),\n",
            "           ('Arthur', 1.8, 41)],\n",
            "          dtype=[('name', '|S10'), ('height', '<f8'), ('age', '<i4')])\n",
            "\n"
          ]
        }
      ]
    },
    {
      "cell_type": "code",
      "source": [],
      "metadata": {
        "id": "IGG3Mc3lvmHH"
      },
      "execution_count": null,
      "outputs": []
    }
  ]
}