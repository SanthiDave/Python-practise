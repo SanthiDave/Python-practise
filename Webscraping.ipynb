{
  "nbformat": 4,
  "nbformat_minor": 0,
  "metadata": {
    "colab": {
      "provenance": [],
      "authorship_tag": "ABX9TyMm8BgPAxvIm3SSepA0Nv12",
      "include_colab_link": true
    },
    "kernelspec": {
      "name": "python3",
      "display_name": "Python 3"
    },
    "language_info": {
      "name": "python"
    }
  },
  "cells": [
    {
      "cell_type": "markdown",
      "metadata": {
        "id": "view-in-github",
        "colab_type": "text"
      },
      "source": [
        "<a href=\"https://colab.research.google.com/github/SanthiDave/Python-practise/blob/main/Webscraping.ipynb\" target=\"_parent\"><img src=\"https://colab.research.google.com/assets/colab-badge.svg\" alt=\"Open In Colab\"/></a>"
      ]
    },
    {
      "cell_type": "markdown",
      "source": [
        "Webscrape an IMDB page"
      ],
      "metadata": {
        "id": "MEaABBU0-rOE"
      }
    },
    {
      "cell_type": "markdown",
      "source": [
        "Access and parse html contents using Python 3, BeautifulSoup and requests libraries.\n"
      ],
      "metadata": {
        "id": "kucDHthEii8q"
      }
    },
    {
      "cell_type": "code",
      "source": [
        "# Install the Python packages requests and bs4 (Beautiful Soup 4)\n",
        "!pip install requests bs4"
      ],
      "metadata": {
        "colab": {
          "base_uri": "https://localhost:8080/"
        },
        "id": "oZ5Hmj-6irjI",
        "outputId": "9748bfb2-f360-43de-c771-bfb8b2b3c8a1"
      },
      "execution_count": 2,
      "outputs": [
        {
          "output_type": "stream",
          "name": "stdout",
          "text": [
            "Requirement already satisfied: requests in /usr/local/lib/python3.10/dist-packages (2.31.0)\n",
            "Collecting bs4\n",
            "  Downloading bs4-0.0.1.tar.gz (1.1 kB)\n",
            "  Preparing metadata (setup.py) ... \u001b[?25l\u001b[?25hdone\n",
            "Requirement already satisfied: charset-normalizer<4,>=2 in /usr/local/lib/python3.10/dist-packages (from requests) (3.3.2)\n",
            "Requirement already satisfied: idna<4,>=2.5 in /usr/local/lib/python3.10/dist-packages (from requests) (3.6)\n",
            "Requirement already satisfied: urllib3<3,>=1.21.1 in /usr/local/lib/python3.10/dist-packages (from requests) (2.0.7)\n",
            "Requirement already satisfied: certifi>=2017.4.17 in /usr/local/lib/python3.10/dist-packages (from requests) (2023.11.17)\n",
            "Requirement already satisfied: beautifulsoup4 in /usr/local/lib/python3.10/dist-packages (from bs4) (4.11.2)\n",
            "Requirement already satisfied: soupsieve>1.2 in /usr/local/lib/python3.10/dist-packages (from beautifulsoup4->bs4) (2.5)\n",
            "Building wheels for collected packages: bs4\n",
            "  Building wheel for bs4 (setup.py) ... \u001b[?25l\u001b[?25hdone\n",
            "  Created wheel for bs4: filename=bs4-0.0.1-py3-none-any.whl size=1256 sha256=6979f8619d9ef96e6767806cdff80f2006672bb6b5bbf53af4627ad51840e404\n",
            "  Stored in directory: /root/.cache/pip/wheels/25/42/45/b773edc52acb16cd2db4cf1a0b47117e2f69bb4eb300ed0e70\n",
            "Successfully built bs4\n",
            "Installing collected packages: bs4\n",
            "Successfully installed bs4-0.0.1\n"
          ]
        }
      ]
    },
    {
      "cell_type": "code",
      "source": [
        "#Import the libraries\n",
        "import requests\n",
        "from bs4 import BeautifulSoup"
      ],
      "metadata": {
        "id": "mWCdmlHkivRr"
      },
      "execution_count": 3,
      "outputs": []
    },
    {
      "cell_type": "code",
      "source": [
        "url = \"https://www.imdb.com/list/ls024149810/\"\n",
        "r = requests.get(url)"
      ],
      "metadata": {
        "id": "pm9hxf8tjEO9"
      },
      "execution_count": 4,
      "outputs": []
    },
    {
      "cell_type": "code",
      "source": [
        "print(r.status_code)"
      ],
      "metadata": {
        "colab": {
          "base_uri": "https://localhost:8080/"
        },
        "id": "gHYuNal1jLBE",
        "outputId": "6459804c-3291-4868-91b1-516764829f60"
      },
      "execution_count": 5,
      "outputs": [
        {
          "output_type": "stream",
          "name": "stdout",
          "text": [
            "200\n"
          ]
        }
      ]
    },
    {
      "cell_type": "markdown",
      "source": [
        "Status code 200 => successful access to webpage"
      ],
      "metadata": {
        "id": "jGSxqswRjNkn"
      }
    },
    {
      "cell_type": "code",
      "source": [
        "#Create Beautiful soup object to parse through the html contents\n",
        "soup = BeautifulSoup(r.content, \"html.parser\")"
      ],
      "metadata": {
        "id": "A6m4yRxVjUvb"
      },
      "execution_count": 6,
      "outputs": []
    },
    {
      "cell_type": "markdown",
      "source": [
        "Note - On the html webpage, right click on the properties to : 1.identify the tags that specify the ocntainer that holds the movie title and 2.where to extract the string\n",
        "Tags identified \"h3\" and \"a\""
      ],
      "metadata": {
        "id": "oQ-ouf_48IiH"
      }
    },
    {
      "cell_type": "code",
      "source": [
        "# Return every line of code that stores the movie title into a list.\n",
        "movie_title = []\n",
        "for title in soup.findAll('h3', {'class':'lister-item-header'}):\n",
        "    titles = title.find('a', href = True).get_text()\n",
        "    movie_title.append(titles)"
      ],
      "metadata": {
        "id": "Oc1HeUjH7tVr"
      },
      "execution_count": 7,
      "outputs": []
    },
    {
      "cell_type": "code",
      "source": [
        "#extract the strings, create empty list to store the strings\n",
        "movie_title = []\n",
        "for title in soup.findAll('h3', {'class':'lister-item-header'}):\n",
        "    titles = title.find('a', href = True).get_text()\n",
        "    movie_title.append(titles)"
      ],
      "metadata": {
        "id": "KnplTUXY88iT"
      },
      "execution_count": 8,
      "outputs": []
    },
    {
      "cell_type": "code",
      "source": [
        "# extract genre\n",
        "genre_list = []\n",
        "for genre in soup.findAll('span', attrs= {'class':'genre'}):\n",
        "    genre = genre.get_text()\n",
        "    genre_list.append(genre.strip())"
      ],
      "metadata": {
        "id": "YI-B0jr_9MmI"
      },
      "execution_count": 9,
      "outputs": []
    },
    {
      "cell_type": "code",
      "source": [
        "import pandas as pd"
      ],
      "metadata": {
        "id": "BzfCWQn69qxA"
      },
      "execution_count": 10,
      "outputs": []
    },
    {
      "cell_type": "code",
      "source": [
        "#Create a dictionary\n",
        "topmovies = pd.DataFrame({\n",
        "    \"Movie Title\": movie_title,\n",
        "    \"Genre\": genre_list,\n",
        "    })\n",
        "print(topmovies)"
      ],
      "metadata": {
        "colab": {
          "base_uri": "https://localhost:8080/"
        },
        "id": "CHivE7j893Km",
        "outputId": "452c3ca5-466e-497a-8cb5-c8e139b7fe44"
      },
      "execution_count": 13,
      "outputs": [
        {
          "output_type": "stream",
          "name": "stdout",
          "text": [
            "                                          Movie Title  \\\n",
            "0                            The Shawshank Redemption   \n",
            "1                                       The Godfather   \n",
            "2                                        Citizen Kane   \n",
            "3                                    De 12 gezworenen   \n",
            "4                                    Schindler's List   \n",
            "5                      The Good, the Bad and the Ugly   \n",
            "6      Star Wars: Episode V - The Empire Strikes Back   \n",
            "7       The Lord of the Rings: The Return of the King   \n",
            "8                                     The Dark Knight   \n",
            "9                               The Godfather Part II   \n",
            "10                                       Pulp Fiction   \n",
            "11                                         Fight Club   \n",
            "12                                             Psycho   \n",
            "13                  2001: Een zwerftocht in de ruimte   \n",
            "14                                         Metropolis   \n",
            "15                  Star Wars: Episode IV: A New Hope   \n",
            "16  The Lord of the Rings: The Fellowship of the Ring   \n",
            "17                         Terminator 2: Judgment Day   \n",
            "18                                         The Matrix   \n",
            "19      Indiana Jones and the Raiders of the Lost Ark   \n",
            "20                                         Casablanca   \n",
            "21                                   The Wizard of Oz   \n",
            "22                               Shichinin no samurai   \n",
            "23                                       Forrest Gump   \n",
            "24                                          Inception   \n",
            "\n",
            "                         Genre  \n",
            "0                        Drama  \n",
            "1                 Crime, Drama  \n",
            "2               Drama, Mystery  \n",
            "3                 Crime, Drama  \n",
            "4    Biography, Drama, History  \n",
            "5           Adventure, Western  \n",
            "6   Action, Adventure, Fantasy  \n",
            "7     Action, Adventure, Drama  \n",
            "8         Action, Crime, Drama  \n",
            "9                 Crime, Drama  \n",
            "10                Crime, Drama  \n",
            "11                       Drama  \n",
            "12   Horror, Mystery, Thriller  \n",
            "13           Adventure, Sci-Fi  \n",
            "14               Drama, Sci-Fi  \n",
            "15  Action, Adventure, Fantasy  \n",
            "16    Action, Adventure, Drama  \n",
            "17              Action, Sci-Fi  \n",
            "18              Action, Sci-Fi  \n",
            "19           Action, Adventure  \n",
            "20         Drama, Romance, War  \n",
            "21  Adventure, Family, Fantasy  \n",
            "22               Action, Drama  \n",
            "23              Drama, Romance  \n",
            "24   Action, Adventure, Sci-Fi  \n"
          ]
        }
      ]
    },
    {
      "cell_type": "code",
      "source": [],
      "metadata": {
        "id": "LjYnKISx-Cjp"
      },
      "execution_count": null,
      "outputs": []
    },
    {
      "cell_type": "markdown",
      "source": [
        "Can look for other tags for ratings, run time etc. as well"
      ],
      "metadata": {
        "id": "HYupgMKp-019"
      }
    },
    {
      "cell_type": "code",
      "source": [],
      "metadata": {
        "id": "vvfRtPvR-7NT"
      },
      "execution_count": null,
      "outputs": []
    }
  ]
}